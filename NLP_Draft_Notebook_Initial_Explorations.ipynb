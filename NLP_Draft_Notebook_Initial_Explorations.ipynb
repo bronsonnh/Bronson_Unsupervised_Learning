{
 "cells": [
  {
   "cell_type": "markdown",
   "id": "1c9a2925",
   "metadata": {},
   "source": [
    "# Read in Data and Initial Exploration"
   ]
  },
  {
   "cell_type": "code",
   "execution_count": 1,
   "id": "2322357b",
   "metadata": {},
   "outputs": [],
   "source": [
    "##Import a number of packages\n",
    "\n",
    "import pandas as pd\n",
    "import numpy as np\n",
    "import matplotlib.pyplot as plt\n",
    "import seaborn as sns\n",
    "\n",
    "import nltk\n",
    "from nltk.tokenize import word_tokenize\n",
    "from nltk.tokenize import sent_tokenize\n",
    "from nltk.util import ngrams\n",
    "from nltk.tokenize import RegexpTokenizer\n",
    "from nltk.corpus import stopwords \n",
    "from nltk.stem import PorterStemmer, SnowballStemmer, LancasterStemmer\n",
    "from nltk.tag import pos_tag\n",
    "from nltk.chunk import ne_chunk\n",
    "from nltk.tokenize import MWETokenizer\n",
    "\n",
    "from sklearn.feature_extraction.text import TfidfVectorizer, CountVectorizer\n",
    "\n",
    "from numpy import dot\n",
    "from numpy.linalg import norm\n",
    "from itertools import combinations\n",
    "from sklearn.feature_extraction.text import TfidfVectorizer\n",
    "from sklearn.decomposition import LatentDirichletAllocation\n",
    "\n",
    "\n",
    "import re\n",
    "import string\n",
    "\n",
    "from textblob import TextBlob\n",
    "\n",
    "from sklearn.decomposition import PCA\n",
    "from sklearn.decomposition import TruncatedSVD\n",
    "from sklearn.decomposition import NMF\n",
    "from sklearn.metrics.pairwise import cosine_similarity\n",
    "\n",
    "import pyLDAvis\n",
    "import pyLDAvis.sklearn\n",
    "pyLDAvis.enable_notebook()\n",
    "\n"
   ]
  },
  {
   "cell_type": "code",
   "execution_count": 2,
   "id": "48f65775",
   "metadata": {},
   "outputs": [],
   "source": [
    "df = pd.read_csv(\"dsotm_reviews.csv\")\n"
   ]
  },
  {
   "cell_type": "code",
   "execution_count": 3,
   "id": "4e1c597b",
   "metadata": {},
   "outputs": [],
   "source": [
    "## Series for reviews only\n",
    "\n",
    "reviews_only = df.Review"
   ]
  },
  {
   "cell_type": "code",
   "execution_count": 4,
   "id": "2a1dd086",
   "metadata": {},
   "outputs": [],
   "source": [
    "## Series for ratings only\n",
    "\n",
    "rating_only = df.Rating"
   ]
  },
  {
   "cell_type": "code",
   "execution_count": 5,
   "id": "e785ad49",
   "metadata": {
    "scrolled": false
   },
   "outputs": [
    {
     "data": {
      "text/html": [
       "<div>\n",
       "<style scoped>\n",
       "    .dataframe tbody tr th:only-of-type {\n",
       "        vertical-align: middle;\n",
       "    }\n",
       "\n",
       "    .dataframe tbody tr th {\n",
       "        vertical-align: top;\n",
       "    }\n",
       "\n",
       "    .dataframe thead th {\n",
       "        text-align: right;\n",
       "    }\n",
       "</style>\n",
       "<table border=\"1\" class=\"dataframe\">\n",
       "  <thead>\n",
       "    <tr style=\"text-align: right;\">\n",
       "      <th></th>\n",
       "      <th>Review</th>\n",
       "      <th>Rating</th>\n",
       "    </tr>\n",
       "  </thead>\n",
       "  <tbody>\n",
       "    <tr>\n",
       "      <th>0</th>\n",
       "      <td>\"More has been said about Dark Side of the Moo...</td>\n",
       "      <td>4.5</td>\n",
       "    </tr>\n",
       "    <tr>\n",
       "      <th>1</th>\n",
       "      <td>What can I possibly say about an album that no...</td>\n",
       "      <td>5.0</td>\n",
       "    </tr>\n",
       "    <tr>\n",
       "      <th>2</th>\n",
       "      <td>You know for a band that spent several albums ...</td>\n",
       "      <td>2.0</td>\n",
       "    </tr>\n",
       "    <tr>\n",
       "      <th>3</th>\n",
       "      <td>Has finally clicked with me in full ...</td>\n",
       "      <td>4.0</td>\n",
       "    </tr>\n",
       "    <tr>\n",
       "      <th>4</th>\n",
       "      <td>So why are people afraid to say this...</td>\n",
       "      <td>4.5</td>\n",
       "    </tr>\n",
       "  </tbody>\n",
       "</table>\n",
       "</div>"
      ],
      "text/plain": [
       "                                              Review  Rating\n",
       "0  \"More has been said about Dark Side of the Moo...     4.5\n",
       "1  What can I possibly say about an album that no...     5.0\n",
       "2  You know for a band that spent several albums ...     2.0\n",
       "3            Has finally clicked with me in full ...     4.0\n",
       "4            So why are people afraid to say this...     4.5"
      ]
     },
     "execution_count": 5,
     "metadata": {},
     "output_type": "execute_result"
    }
   ],
   "source": [
    "df.head()"
   ]
  },
  {
   "cell_type": "code",
   "execution_count": 6,
   "id": "ad97f357",
   "metadata": {},
   "outputs": [
    {
     "data": {
      "text/plain": [
       "1548"
      ]
     },
     "execution_count": 6,
     "metadata": {},
     "output_type": "execute_result"
    }
   ],
   "source": [
    "## Appears to be 1548 even though the dataset is supposed to have 1544 records\n",
    "\n",
    "len(reviews_only)"
   ]
  },
  {
   "cell_type": "code",
   "execution_count": 7,
   "id": "96a5584c",
   "metadata": {},
   "outputs": [],
   "source": [
    "## Creating a list where each item is a review\n",
    "lista = [x for x in reviews_only]"
   ]
  },
  {
   "cell_type": "code",
   "execution_count": 8,
   "id": "980d76a9",
   "metadata": {},
   "outputs": [
    {
     "data": {
      "text/plain": [
       "1548"
      ]
     },
     "execution_count": 8,
     "metadata": {},
     "output_type": "execute_result"
    }
   ],
   "source": [
    "len(lista)"
   ]
  },
  {
   "cell_type": "code",
   "execution_count": 9,
   "id": "9b58b461",
   "metadata": {
    "scrolled": true
   },
   "outputs": [
    {
     "name": "stdout",
     "output_type": "stream",
     "text": [
      "Average number of words per review: 138.26308985132513\n"
     ]
    }
   ],
   "source": [
    "## Function to count number of words per review\n",
    "\n",
    "mean_list = []\n",
    "for i in lista:\n",
    "    if type(i) != float:\n",
    "        x = i.split()\n",
    "        leng = len(x)\n",
    "        mean_list.append(leng)\n",
    "        \n",
    "print('Average number of words per review: {}'.format(np.mean(mean_list)))"
   ]
  },
  {
   "cell_type": "code",
   "execution_count": 10,
   "id": "fbf01d85",
   "metadata": {
    "scrolled": true
   },
   "outputs": [
    {
     "name": "stdout",
     "output_type": "stream",
     "text": [
      "nan 1347\n"
     ]
    }
   ],
   "source": [
    "counter = 0\n",
    "for i in lista:\n",
    "    counter += 1 \n",
    "    if type(i) == float:\n",
    "        print(i, counter)"
   ]
  },
  {
   "cell_type": "code",
   "execution_count": 11,
   "id": "6436a82c",
   "metadata": {},
   "outputs": [
    {
     "data": {
      "text/plain": [
       "nan"
      ]
     },
     "execution_count": 11,
     "metadata": {},
     "output_type": "execute_result"
    }
   ],
   "source": [
    "df.iloc[1346][0]"
   ]
  },
  {
   "cell_type": "code",
   "execution_count": 12,
   "id": "2fd7d2b4",
   "metadata": {},
   "outputs": [],
   "source": [
    "## Dropping null value\n",
    "\n",
    "df.drop([df.index[1346]], inplace = True)"
   ]
  },
  {
   "cell_type": "code",
   "execution_count": 13,
   "id": "075f38a0",
   "metadata": {},
   "outputs": [],
   "source": [
    "## Series for reviews \n",
    "\n",
    "reviews_only = df.Review"
   ]
  },
  {
   "cell_type": "code",
   "execution_count": 14,
   "id": "c243f918",
   "metadata": {},
   "outputs": [],
   "source": [
    "## Series for ratings \n",
    "\n",
    "rating_only = df.Rating"
   ]
  },
  {
   "cell_type": "code",
   "execution_count": 15,
   "id": "d5fb20bc",
   "metadata": {
    "scrolled": true
   },
   "outputs": [],
   "source": [
    "## df.iloc[1342][0]"
   ]
  },
  {
   "cell_type": "code",
   "execution_count": 16,
   "id": "a08e178d",
   "metadata": {
    "scrolled": true
   },
   "outputs": [
    {
     "name": "stdout",
     "output_type": "stream",
     "text": [
      "[319, 621, 703, 289, 154]\n"
     ]
    }
   ],
   "source": [
    "print(mean_list[:5])"
   ]
  },
  {
   "cell_type": "code",
   "execution_count": 17,
   "id": "85b5ac74",
   "metadata": {},
   "outputs": [
    {
     "name": "stdout",
     "output_type": "stream",
     "text": [
      "So-so.\n",
      "eh\n",
      "顶峰\n",
      "Classic.\n",
      "Fantastic\n",
      "EPIC\n",
      "classic\n",
      "INSANE!!\n",
      "Quality!\n",
      "Superb\n",
      "great\n",
      "Dull\n",
      "Classic.\n",
      "awsome\n",
      "glorious\n"
     ]
    }
   ],
   "source": [
    "for i in lista:\n",
    "    if type(i) == str and len(i) < 10:\n",
    "        print(i)"
   ]
  },
  {
   "cell_type": "code",
   "execution_count": 18,
   "id": "6685ed41",
   "metadata": {},
   "outputs": [
    {
     "name": "stdout",
     "output_type": "stream",
     "text": [
      "1524\n"
     ]
    }
   ],
   "source": [
    "counter = 0\n",
    "for i in lista:\n",
    "    if type(i) == str and len(i) > 12:\n",
    "        counter += 1 \n",
    "\n",
    "print(counter)"
   ]
  },
  {
   "cell_type": "code",
   "execution_count": 19,
   "id": "3179f511",
   "metadata": {},
   "outputs": [
    {
     "name": "stdout",
     "output_type": "stream",
     "text": [
      "1547\n"
     ]
    }
   ],
   "source": [
    "print(len(rating_only))"
   ]
  },
  {
   "cell_type": "code",
   "execution_count": 20,
   "id": "0249bbc0",
   "metadata": {},
   "outputs": [
    {
     "data": {
      "text/plain": [
       "0       4.5\n",
       "1       5.0\n",
       "2       2.0\n",
       "3       4.0\n",
       "4       4.5\n",
       "       ... \n",
       "1543    5.0\n",
       "1544    4.5\n",
       "1545    5.0\n",
       "1546    1.0\n",
       "1547    1.0\n",
       "Name: Rating, Length: 1547, dtype: float64"
      ]
     },
     "execution_count": 20,
     "metadata": {},
     "output_type": "execute_result"
    }
   ],
   "source": [
    "rating_only"
   ]
  },
  {
   "cell_type": "code",
   "execution_count": 21,
   "id": "ae57b8e2",
   "metadata": {},
   "outputs": [
    {
     "data": {
      "text/plain": [
       "53"
      ]
     },
     "execution_count": 21,
     "metadata": {},
     "output_type": "execute_result"
    }
   ],
   "source": [
    "## Number of reviews without a rating\n",
    "df['Rating'].isna().sum()"
   ]
  },
  {
   "cell_type": "code",
   "execution_count": 22,
   "id": "3ccd1fae",
   "metadata": {},
   "outputs": [
    {
     "name": "stdout",
     "output_type": "stream",
     "text": [
      "There are 1494 reviews without a rating\n"
     ]
    }
   ],
   "source": [
    "print(\"There are\", 1547-53, \"reviews without a rating\")"
   ]
  },
  {
   "cell_type": "code",
   "execution_count": 23,
   "id": "f9782411",
   "metadata": {},
   "outputs": [
    {
     "name": "stdout",
     "output_type": "stream",
     "text": [
      "The average rating is: 4.393574297188755\n"
     ]
    }
   ],
   "source": [
    "print(\"The average rating is:\", (df['Rating'].mean()))"
   ]
  },
  {
   "cell_type": "code",
   "execution_count": 24,
   "id": "c7ca1742",
   "metadata": {},
   "outputs": [
    {
     "data": {
      "text/plain": [
       "5.0    0.562918\n",
       "4.5    0.157965\n",
       "4.0    0.101071\n",
       "3.5    0.056894\n",
       "3.0    0.042169\n",
       "2.5    0.026774\n",
       "2.0    0.019411\n",
       "1.0    0.014726\n",
       "0.5    0.009371\n",
       "1.5    0.008701\n",
       "Name: Rating, dtype: float64"
      ]
     },
     "execution_count": 24,
     "metadata": {},
     "output_type": "execute_result"
    }
   ],
   "source": [
    "## Probably will go back and change this to break into fewer categories\n",
    "## Histogram? \n",
    "df.Rating.value_counts(normalize=True)"
   ]
  },
  {
   "cell_type": "code",
   "execution_count": 25,
   "id": "de5430c0",
   "metadata": {},
   "outputs": [],
   "source": [
    "## Questions for myself:\n",
    "## 1) Should I remove punctuation, capital letters, numbers, stop words?\n",
    "## 2) Should I chunk before tokenizing?\n",
    "## 3) Should I use stemming, named entity recognition, correct mispellings, look at other languages?"
   ]
  },
  {
   "cell_type": "code",
   "execution_count": 26,
   "id": "b7fef661",
   "metadata": {},
   "outputs": [
    {
     "name": "stderr",
     "output_type": "stream",
     "text": [
      "<>:3: DeprecationWarning: invalid escape sequence \\w\n",
      "<>:3: DeprecationWarning: invalid escape sequence \\w\n",
      "/var/folders/nl/tr7pjkb958q6d3m6cvyj6qfh0000gn/T/ipykernel_2893/1267529906.py:3: DeprecationWarning: invalid escape sequence \\w\n",
      "  alphanumeric = lambda x: re.sub('\\w*\\d\\w*', ' ', x)\n"
     ]
    }
   ],
   "source": [
    "## Pre-processing to remove numbers, capital letters, punctuation \n",
    "\n",
    "alphanumeric = lambda x: re.sub('\\w*\\d\\w*', ' ', x)\n",
    "punc_lower = lambda x: re.sub('[%s]' % re.escape(string.punctuation), \" \", x.lower())\n",
    "\n",
    "df[\"Review\"] = df.Review.map(alphanumeric).map(punc_lower)"
   ]
  },
  {
   "cell_type": "code",
   "execution_count": 27,
   "id": "0e9590a7",
   "metadata": {},
   "outputs": [
    {
     "data": {
      "text/html": [
       "<div>\n",
       "<style scoped>\n",
       "    .dataframe tbody tr th:only-of-type {\n",
       "        vertical-align: middle;\n",
       "    }\n",
       "\n",
       "    .dataframe tbody tr th {\n",
       "        vertical-align: top;\n",
       "    }\n",
       "\n",
       "    .dataframe thead th {\n",
       "        text-align: right;\n",
       "    }\n",
       "</style>\n",
       "<table border=\"1\" class=\"dataframe\">\n",
       "  <thead>\n",
       "    <tr style=\"text-align: right;\">\n",
       "      <th></th>\n",
       "      <th>Review</th>\n",
       "      <th>Rating</th>\n",
       "    </tr>\n",
       "  </thead>\n",
       "  <tbody>\n",
       "    <tr>\n",
       "      <th>0</th>\n",
       "      <td>more has been said about dark side of the moo...</td>\n",
       "      <td>4.5</td>\n",
       "    </tr>\n",
       "    <tr>\n",
       "      <th>1</th>\n",
       "      <td>what can i possibly say about an album that no...</td>\n",
       "      <td>5.0</td>\n",
       "    </tr>\n",
       "    <tr>\n",
       "      <th>2</th>\n",
       "      <td>you know for a band that spent several albums ...</td>\n",
       "      <td>2.0</td>\n",
       "    </tr>\n",
       "    <tr>\n",
       "      <th>3</th>\n",
       "      <td>has finally clicked with me in full ...</td>\n",
       "      <td>4.0</td>\n",
       "    </tr>\n",
       "    <tr>\n",
       "      <th>4</th>\n",
       "      <td>so why are people afraid to say this...</td>\n",
       "      <td>4.5</td>\n",
       "    </tr>\n",
       "  </tbody>\n",
       "</table>\n",
       "</div>"
      ],
      "text/plain": [
       "                                              Review  Rating\n",
       "0   more has been said about dark side of the moo...     4.5\n",
       "1  what can i possibly say about an album that no...     5.0\n",
       "2  you know for a band that spent several albums ...     2.0\n",
       "3            has finally clicked with me in full ...     4.0\n",
       "4            so why are people afraid to say this...     4.5"
      ]
     },
     "execution_count": 27,
     "metadata": {},
     "output_type": "execute_result"
    }
   ],
   "source": [
    "df.head()"
   ]
  },
  {
   "cell_type": "markdown",
   "id": "7506d489",
   "metadata": {},
   "source": [
    "# Count Vectorizer 1"
   ]
  },
  {
   "cell_type": "code",
   "execution_count": 28,
   "id": "5a95795a",
   "metadata": {},
   "outputs": [],
   "source": [
    "vec = CountVectorizer()"
   ]
  },
  {
   "cell_type": "code",
   "execution_count": 29,
   "id": "a37bc4db",
   "metadata": {},
   "outputs": [
    {
     "data": {
      "text/plain": [
       "array([[0, 0, 0, ..., 0, 0, 0],\n",
       "       [0, 0, 0, ..., 0, 0, 0],\n",
       "       [0, 0, 0, ..., 0, 0, 0],\n",
       "       ...,\n",
       "       [0, 0, 0, ..., 0, 0, 0],\n",
       "       [0, 0, 0, ..., 0, 0, 0],\n",
       "       [0, 0, 0, ..., 0, 0, 0]])"
      ]
     },
     "execution_count": 29,
     "metadata": {},
     "output_type": "execute_result"
    }
   ],
   "source": [
    "reviews_vectorized = vec.fit_transform(reviews_only)\n",
    "\n",
    "reviews_vectorized.toarray()"
   ]
  },
  {
   "cell_type": "code",
   "execution_count": 30,
   "id": "4c6a7178",
   "metadata": {},
   "outputs": [
    {
     "data": {
      "text/plain": [
       "array([  0,   1,   2,   5,   4,   8,   6,   3,   7,  10,  12,   9,  13,\n",
       "        18,  22,  14,  48,  17,  16,  15,  11,  40,  19,  21,  30,  70,\n",
       "        39,  25,  28,  45,  20,  94,  26,  23,  31,  49,  46,  24,  90,\n",
       "        38,  27,  82,  54,  91,  37,  29, 159,  79,  88,  41,  51, 139,\n",
       "        42,  35,  67,  32,  33,  57, 115,  44,  84,  66, 176,  52,  78,\n",
       "        47,  81,  93,  62, 137,  60,  55, 133,  56, 121,  71,  63,  64,\n",
       "        53, 141,  36,  59,  77, 118,  50,  61,  43,  99, 105,  76, 185,\n",
       "        83,  34,  68, 395, 172, 131, 228,  69, 225, 109,  73,  96, 108])"
      ]
     },
     "execution_count": 30,
     "metadata": {},
     "output_type": "execute_result"
    }
   ],
   "source": [
    "pd.unique(reviews_vectorized.toarray().reshape(-1))"
   ]
  },
  {
   "cell_type": "code",
   "execution_count": 31,
   "id": "5c47dee0",
   "metadata": {},
   "outputs": [
    {
     "data": {
      "text/plain": [
       "{'more': 9260,\n",
       " 'has': 6564,\n",
       " 'been': 1308,\n",
       " 'said': 13287,\n",
       " 'about': 24,\n",
       " 'dark': 3441,\n",
       " 'side': 13804,\n",
       " 'of': 10515,\n",
       " 'the': 15263,\n",
       " 'moon': 9247,\n",
       " 'than': 15253,\n",
       " 'will': 16700,\n",
       " 'ever': 5085,\n",
       " 'be': 1269,\n",
       " 'necessary': 9585,\n",
       " 'both': 1635,\n",
       " 'positive': 11599,\n",
       " 'and': 563,\n",
       " 'negative': 9602,\n",
       " 'see': 13486,\n",
       " 'no': 10192,\n",
       " 'reason': 12498,\n",
       " 'to': 15448,\n",
       " 'assess': 898,\n",
       " 'albums': 382,\n",
       " 'actual': 161,\n",
       " 'music': 9357,\n",
       " 'in': 7126,\n",
       " 'this': 15322,\n",
       " 'review': 12972,\n",
       " 'as': 857,\n",
       " 'my': 9406,\n",
       " 'fondness': 5732,\n",
       " 'for': 5744,\n",
       " 'it': 7630,\n",
       " 'is': 7607,\n",
       " 'likely': 8243,\n",
       " 'rooted': 13154,\n",
       " 'same': 13314,\n",
       " 'reasoning': 12501,\n",
       " 'emotion': 4670,\n",
       " 'most': 9278,\n",
       " 'other': 10717,\n",
       " 'people': 11136,\n",
       " 'who': 16669,\n",
       " 'rank': 12389,\n",
       " 'amongst': 532,\n",
       " 'best': 1392,\n",
       " 'theyve': 15306,\n",
       " 'heard': 6616,\n",
       " 'still': 14522,\n",
       " 'feel': 5491,\n",
       " 'some': 14143,\n",
       " 'obligation': 10440,\n",
       " 'explain': 5230,\n",
       " 'myself': 9408,\n",
       " 'many': 8683,\n",
       " 'critically': 3222,\n",
       " 'acclaimed': 90,\n",
       " 'have': 6586,\n",
       " 'fallen': 5370,\n",
       " 'short': 13756,\n",
       " 'their': 15270,\n",
       " 'reputations': 12819,\n",
       " 'against': 281,\n",
       " 'eardrums': 4444,\n",
       " 'one': 10593,\n",
       " 'an': 549,\n",
       " 'exception': 5141,\n",
       " 'nnwere': 10165,\n",
       " 'asked': 878,\n",
       " 'describe': 3731,\n",
       " 'perfect': 11172,\n",
       " 'hypothetical': 6930,\n",
       " 'album': 372,\n",
       " 'think': 15315,\n",
       " 'response': 12881,\n",
       " 'were': 16611,\n",
       " 'able': 21,\n",
       " 'come': 2568,\n",
       " 'up': 16113,\n",
       " 'with': 16733,\n",
       " 'would': 16811,\n",
       " 'not': 10250,\n",
       " 'reflect': 12616,\n",
       " 'characteristics': 2185,\n",
       " 'years': 16905,\n",
       " 'passed': 11028,\n",
       " 'knowledge': 7906,\n",
       " 'expanded': 5196,\n",
       " 'ive': 7648,\n",
       " 'learned': 8107,\n",
       " 'appreciate': 727,\n",
       " 'great': 6312,\n",
       " 'deal': 3490,\n",
       " 'sounds': 14239,\n",
       " 'ideas': 6961,\n",
       " 'which': 16640,\n",
       " 'bothersome': 1640,\n",
       " 'me': 8804,\n",
       " 'when': 16631,\n",
       " 'was': 16522,\n",
       " 'dominant': 4155,\n",
       " 'over': 10779,\n",
       " 'speakers': 14293,\n",
       " 'perspective': 11232,\n",
       " 'listener': 8304,\n",
       " 'adapted': 173,\n",
       " 'embrace': 4649,\n",
       " 'variety': 16212,\n",
       " 'diverse': 4098,\n",
       " 'enough': 4804,\n",
       " 'that': 15259,\n",
       " 'original': 10685,\n",
       " 'favorites': 5459,\n",
       " 'now': 10296,\n",
       " 'sound': 14234,\n",
       " 'dated': 3455,\n",
       " 'or': 10656,\n",
       " 'tiresome': 15438,\n",
       " 'nndark': 9850,\n",
       " 'survivor': 14869,\n",
       " 'simply': 13873,\n",
       " 'because': 1300,\n",
       " 'its': 7641,\n",
       " 'impact': 7062,\n",
       " 'upon': 16121,\n",
       " 'defined': 3571,\n",
       " 'by': 1854,\n",
       " 'simple': 13865,\n",
       " 'nostalgia': 10246,\n",
       " 'structure': 14619,\n",
       " 'served': 13637,\n",
       " 'very': 16281,\n",
       " 'core': 3048,\n",
       " 'what': 16624,\n",
       " 'explored': 5253,\n",
       " 'subconsciously': 14660,\n",
       " 'contrasted': 2975,\n",
       " 'unintentionally': 16027,\n",
       " 'allowing': 443,\n",
       " 'influence': 7263,\n",
       " 'feelings': 5493,\n",
       " 'grown': 6370,\n",
       " 'out': 10741,\n",
       " 'phase': 11275,\n",
       " 'but': 1841,\n",
       " 'reverberations': 12963,\n",
       " 'are': 771,\n",
       " 'felt': 5503,\n",
       " 'all': 429,\n",
       " 'collection': 2529,\n",
       " 'truly': 15764,\n",
       " 'terribly': 15228,\n",
       " 'good': 6213,\n",
       " 'effect': 4525,\n",
       " 'on': 10586,\n",
       " 'pink': 11349,\n",
       " 'floyd': 5674,\n",
       " 'arent': 776,\n",
       " 'blamed': 1487,\n",
       " 'nnthis': 10129,\n",
       " 'favorite': 5458,\n",
       " 'anymore': 656,\n",
       " 'hope': 6828,\n",
       " 'though': 15330,\n",
       " 'continue': 2952,\n",
       " 'distance': 4065,\n",
       " 'from': 5887,\n",
       " 'dont': 4173,\n",
       " 'forget': 5768,\n",
       " 'musical': 9359,\n",
       " 'merits': 8943,\n",
       " 'importance': 7084,\n",
       " 'rock': 13098,\n",
       " 'itself': 7642,\n",
       " 'can': 1933,\n",
       " 'possibly': 11613,\n",
       " 'say': 13383,\n",
       " 'only': 10600,\n",
       " 'means': 8817,\n",
       " 'so': 14067,\n",
       " 'much': 9315,\n",
       " 'influenced': 7264,\n",
       " 'equal': 4890,\n",
       " 'number': 10367,\n",
       " 'then': 15290,\n",
       " 'tell': 15140,\n",
       " 'you': 16921,\n",
       " 'personal': 11223,\n",
       " 'stories': 14553,\n",
       " 'regarding': 12644,\n",
       " 'someone': 14148,\n",
       " 'early': 4449,\n",
       " 'twenties': 15825,\n",
       " 'slammed': 13965,\n",
       " 'head': 6601,\n",
       " 'long': 8387,\n",
       " 'into': 7513,\n",
       " 'portion': 11580,\n",
       " 'galaxy': 5980,\n",
       " 'nni': 9932,\n",
       " 'viet': 16317,\n",
       " 'nam': 9490,\n",
       " 'released': 12698,\n",
       " 'please': 11444,\n",
       " 'allow': 441,\n",
       " 'assure': 919,\n",
       " 'sitting': 13927,\n",
       " 'comfortably': 2585,\n",
       " 'your': 16929,\n",
       " 'living': 8325,\n",
       " 'room': 13149,\n",
       " 'hearing': 6617,\n",
       " 'piece': 11321,\n",
       " 'thing': 15312,\n",
       " 'middle': 9014,\n",
       " 'jungle': 7793,\n",
       " 'world': 16791,\n",
       " 'if': 6989,\n",
       " 'adventure': 235,\n",
       " 'black': 1480,\n",
       " 'coal': 2471,\n",
       " 'at': 933,\n",
       " 'night': 9733,\n",
       " 'stars': 14454,\n",
       " 'shown': 13782,\n",
       " 'down': 4224,\n",
       " 'like': 8240,\n",
       " 'brilliant': 1734,\n",
       " 'beacons': 1271,\n",
       " 'shadows': 13680,\n",
       " 'moved': 9300,\n",
       " 'things': 15313,\n",
       " 'couldn': 3087,\n",
       " 'while': 16642,\n",
       " 'didn': 3880,\n",
       " 'cast': 2035,\n",
       " 'times': 15417,\n",
       " 'quiet': 12310,\n",
       " 'noise': 10205,\n",
       " 'chirping': 2265,\n",
       " 'bugs': 1790,\n",
       " 'deafening': 3489,\n",
       " 'introduction': 7530,\n",
       " 'surreal': 14856,\n",
       " 'soundscape': 14240,\n",
       " 'mixed': 9149,\n",
       " 'comings': 2595,\n",
       " 'goings': 6204,\n",
       " 'war': 16506,\n",
       " 'added': 175,\n",
       " 'fourth': 5826,\n",
       " 'dimension': 3930,\n",
       " 'each': 4439,\n",
       " 'every': 5089,\n",
       " 'song': 14165,\n",
       " 'there': 15296,\n",
       " 'walls': 16489,\n",
       " 'nothing': 10263,\n",
       " 'contain': 2918,\n",
       " 'just': 7799,\n",
       " 'filled': 5550,\n",
       " 'hootch': 6826,\n",
       " 'floated': 5649,\n",
       " 'through': 15352,\n",
       " 'misquote': 9126,\n",
       " 'netting': 9646,\n",
       " 'drifted': 4271,\n",
       " 'off': 10517,\n",
       " 'where': 16633,\n",
       " 'sure': 14837,\n",
       " 'today': 15457,\n",
       " 'resonating': 12864,\n",
       " 'tree': 15699,\n",
       " 'nnnow': 10025,\n",
       " 'coolest': 3030,\n",
       " 'psyops': 12108,\n",
       " 'got': 6235,\n",
       " 'hold': 6789,\n",
       " 'these': 15301,\n",
       " 'guys': 6431,\n",
       " 'had': 6476,\n",
       " 'huge': 6883,\n",
       " 'speaker': 14292,\n",
       " 'systems': 14976,\n",
       " 'attached': 969,\n",
       " 'choppers': 2279,\n",
       " 'they': 15302,\n",
       " 'blast': 1497,\n",
       " 'vc': 16223,\n",
       " 'ungodly': 16011,\n",
       " 'day': 3477,\n",
       " 'we': 16560,\n",
       " 'nurses': 10382,\n",
       " 'showed': 13779,\n",
       " 'hanger': 6523,\n",
       " 'hand': 6512,\n",
       " 'why': 16680,\n",
       " 'took': 15503,\n",
       " 'those': 15329,\n",
       " 'boys': 1670,\n",
       " 'three': 15344,\n",
       " 'minutes': 9096,\n",
       " 'hook': 6821,\n",
       " 'stereo': 14502,\n",
       " 'power': 11662,\n",
       " 'amp': 538,\n",
       " 'treated': 15693,\n",
       " 'us': 16134,\n",
       " 'concert': 2753,\n",
       " 'style': 14648,\n",
       " 'playback': 11431,\n",
       " 'surround': 14859,\n",
       " 'actually': 165,\n",
       " 'shook': 13751,\n",
       " 'top': 15509,\n",
       " 'something': 14150,\n",
       " 'million': 9053,\n",
       " 'weeks': 16583,\n",
       " 'seminal': 13548,\n",
       " 'used': 16142,\n",
       " 'purchasing': 12178,\n",
       " 'stereos': 14503,\n",
       " 'using': 16150,\n",
       " 'dope': 4184,\n",
       " 'certain': 2134,\n",
       " 'own': 10848,\n",
       " 'otherwise': 10720,\n",
       " 'hung': 6907,\n",
       " 'shame': 13689,\n",
       " 'list': 8297,\n",
       " 'playing': 11438,\n",
       " 'time': 15405,\n",
       " 'back': 1122,\n",
       " 'rolling': 13137,\n",
       " 'stone': 14538,\n",
       " 'magazine': 8571,\n",
       " 'counter': 3094,\n",
       " 'culture': 3318,\n",
       " 'adds': 188,\n",
       " 'mail': 8597,\n",
       " 'order': 10668,\n",
       " 'bongs': 1589,\n",
       " 'uncomfortable': 15937,\n",
       " 'earth': 4455,\n",
       " 'shoes': 13750,\n",
       " 'words': 16782,\n",
       " 'dropped': 4290,\n",
       " 'let': 8182,\n",
       " 'know': 7903,\n",
       " 'hip': 6747,\n",
       " 'poster': 11622,\n",
       " 'first': 5596,\n",
       " 'edition': 4513,\n",
       " 'prominently': 11952,\n",
       " 'everyone': 5094,\n",
       " 'nnthe': 10124,\n",
       " 'stood': 14544,\n",
       " 'test': 15239,\n",
       " 'astonishingly': 925,\n",
       " 'well': 16603,\n",
       " 'trippy': 15735,\n",
       " 'cash': 2027,\n",
       " 'registers': 12649,\n",
       " 'screaming': 13443,\n",
       " 'bells': 1356,\n",
       " 'taken': 15030,\n",
       " 'friend': 5873,\n",
       " 'annoying': 617,\n",
       " 'leaving': 8115,\n",
       " 'smoothest': 14039,\n",
       " 'lush': 8504,\n",
       " 'flowing': 5669,\n",
       " 'could': 3086,\n",
       " 'conjure': 2821,\n",
       " 'being': 1338,\n",
       " 'way': 16551,\n",
       " 'measure': 8822,\n",
       " 'groups': 6364,\n",
       " 'reference': 12602,\n",
       " 'release': 12697,\n",
       " 'spurred': 14393,\n",
       " 'them': 15272,\n",
       " 'certainly': 2137,\n",
       " 'must': 9385,\n",
       " 'considered': 2875,\n",
       " 'historical': 6764,\n",
       " 'giving': 6153,\n",
       " 'central': 2114,\n",
       " 'place': 11395,\n",
       " 'history': 6767,\n",
       " 'nneverything': 9888,\n",
       " 'did': 3879,\n",
       " 'lead': 8094,\n",
       " 'making': 8623,\n",
       " 'everything': 5096,\n",
       " 'after': 273,\n",
       " 'mere': 8937,\n",
       " 'reflection': 12619,\n",
       " 'wonder': 16766,\n",
       " 'hoopla': 6825,\n",
       " 'won': 16765,\n",
       " 'care': 1993,\n",
       " 'll': 8327,\n",
       " 'shrug': 13786,\n",
       " 'shoulders': 13765,\n",
       " 'knowing': 7904,\n",
       " 'effected': 4526,\n",
       " 'done': 4166,\n",
       " 'thought': 15332,\n",
       " 'band': 1178,\n",
       " 'spent': 14323,\n",
       " 'several': 13665,\n",
       " 'trying': 15777,\n",
       " 'atone': 958,\n",
       " 'unceremoniously': 15930,\n",
       " 'ousting': 10740,\n",
       " 'founder': 5822,\n",
       " 'his': 6759,\n",
       " 'incredibly': 7185,\n",
       " 'fertile': 5510,\n",
       " 'mind': 9062,\n",
       " 'became': 1299,\n",
       " 'little': 8319,\n",
       " 'bit': 1460,\n",
       " 'overheated': 10802,\n",
       " 'lsd': 8453,\n",
       " 'use': 16141,\n",
       " 'seems': 13498,\n",
       " 'forever': 5766,\n",
       " 'never': 9650,\n",
       " 'reaching': 12448,\n",
       " 'heights': 6649,\n",
       " 'promised': 11955,\n",
       " 'syd': 14917,\n",
       " 'barrett': 1217,\n",
       " 'member': 8899,\n",
       " 'add': 174,\n",
       " 'insult': 7404,\n",
       " 'injury': 7304,\n",
       " 'atonement': 959,\n",
       " 'made': 8555,\n",
       " 'respective': 12869,\n",
       " 'members': 8900,\n",
       " 'wealthy': 16566,\n",
       " 'beyond': 1418,\n",
       " 'artists': 850,\n",
       " 'make': 8620,\n",
       " 'money': 9209,\n",
       " 'appearance': 708,\n",
       " 'charity': 2195,\n",
       " 'gigs': 6116,\n",
       " 'charities': 2194,\n",
       " 'raise': 12372,\n",
       " 'how': 6866,\n",
       " 'gazillion': 6022,\n",
       " 'copies': 3039,\n",
       " 'sold': 14118,\n",
       " 'blowing': 1541,\n",
       " 'may': 8790,\n",
       " 'university': 16045,\n",
       " 'students': 14631,\n",
       " 'confidence': 2792,\n",
       " 'point': 11505,\n",
       " 'erratic': 4917,\n",
       " 'career': 1995,\n",
       " 'even': 5075,\n",
       " 'bizarrely': 1475,\n",
       " 'addled': 185,\n",
       " 'anything': 659,\n",
       " 'quite': 12323,\n",
       " 'useless': 16144,\n",
       " 'sheer': 13712,\n",
       " 'irony': 7592,\n",
       " 'record': 12559,\n",
       " 'lunacy': 8489,\n",
       " 'main': 8598,\n",
       " 'themes': 15277,\n",
       " 'pass': 11021,\n",
       " 'everyday': 5092,\n",
       " 'habitually': 6452,\n",
       " 'mix': 9147,\n",
       " 'medication': 8833,\n",
       " 'copious': 3040,\n",
       " 'amounts': 536,\n",
       " 'alcohol': 392,\n",
       " 'entertaining': 4828,\n",
       " 'speak': 14290,\n",
       " 'sense': 13571,\n",
       " 'do': 4122,\n",
       " 'nnof': 10039,\n",
       " 'course': 3110,\n",
       " 'theory': 15294,\n",
       " 'pretty': 11807,\n",
       " 'grand': 6264,\n",
       " 'problem': 11863,\n",
       " 'better': 1408,\n",
       " 'finished': 5584,\n",
       " 'product': 11889,\n",
       " 'whole': 16672,\n",
       " 'progressive': 11931,\n",
       " 'nutshell': 10387,\n",
       " 'once': 10589,\n",
       " 'youve': 16937,\n",
       " 'demonstrated': 3663,\n",
       " 'prowess': 12028,\n",
       " 'musician': 9373,\n",
       " 'toiled': 15467,\n",
       " 'endless': 4749,\n",
       " 'hours': 6858,\n",
       " 'precision': 11706,\n",
       " 'engineer': 4768,\n",
       " 'snippet': 14059,\n",
       " 'exactly': 5117,\n",
       " 'saying': 13385,\n",
       " 'imagine': 7028,\n",
       " 'without': 16737,\n",
       " 'fear': 5471,\n",
       " 'contradiction': 2963,\n",
       " 'whatever': 16626,\n",
       " 'am': 487,\n",
       " 'gig': 6111,\n",
       " 'sky': 13956,\n",
       " 'instance': 7374,\n",
       " 'hear': 6614,\n",
       " 'clare': 2372,\n",
       " 'torrys': 15532,\n",
       " 'vocal': 16377,\n",
       " 'gyrations': 6432,\n",
       " 'appearing': 710,\n",
       " 'desperate': 3771,\n",
       " 'attempt': 977,\n",
       " 'signify': 13837,\n",
       " 'soul': 14229,\n",
       " 'none': 10215,\n",
       " 'makes': 8622,\n",
       " 'incongruous': 7167,\n",
       " 'nnthere': 10126,\n",
       " 'two': 15835,\n",
       " 'tracks': 15594,\n",
       " 'here': 6673,\n",
       " 'enliven': 4795,\n",
       " 'proceedings': 11872,\n",
       " 'any': 653,\n",
       " 'extent': 5289,\n",
       " 'also': 468,\n",
       " 'serious': 13632,\n",
       " 'flaws': 5635,\n",
       " 'known': 7907,\n",
       " 'track': 15588,\n",
       " 'built': 1795,\n",
       " 'around': 799,\n",
       " 'register': 12648,\n",
       " 'tape': 15070,\n",
       " 'loop': 8406,\n",
       " 'perhaps': 11195,\n",
       " 'idea': 6955,\n",
       " 'lp': 8451,\n",
       " 'im': 7021,\n",
       " 'jaundiced': 7687,\n",
       " 'look': 8397,\n",
       " 'downside': 4235,\n",
       " 'riches': 13008,\n",
       " 'belied': 1344,\n",
       " 'effortlessly': 4546,\n",
       " 'radio': 12357,\n",
       " 'friendly': 5875,\n",
       " 'message': 8959,\n",
       " 'frequently': 5864,\n",
       " 'lost': 8424,\n",
       " 'uninitiated': 16025,\n",
       " 'testament': 15240,\n",
       " 'bands': 1185,\n",
       " 'inability': 7127,\n",
       " 'adequately': 196,\n",
       " 'signpost': 13839,\n",
       " 'depths': 3705,\n",
       " 'turn': 15804,\n",
       " 'speaks': 14295,\n",
       " 'volumes': 16413,\n",
       " 'dour': 4218,\n",
       " 'humourless': 6903,\n",
       " 'vacuum': 16180,\n",
       " 'tend': 15175,\n",
       " 'inhabit': 7293,\n",
       " 'nnperhaps': 10061,\n",
       " 'nowhere': 10299,\n",
       " 'last': 8044,\n",
       " 'obvious': 10472,\n",
       " 'brain': 1675,\n",
       " 'damage': 3414,\n",
       " 'refers': 12609,\n",
       " 'specifically': 14302,\n",
       " 'comes': 2578,\n",
       " 'closest': 2447,\n",
       " 'spirit': 14348,\n",
       " 'barretts': 1220,\n",
       " 'work': 16784,\n",
       " 'close': 2442,\n",
       " 'creativity': 3173,\n",
       " 'always': 486,\n",
       " 'playful': 11435,\n",
       " 'least': 8110,\n",
       " 'cohesive': 2499,\n",
       " 'heavy': 6635,\n",
       " 'handed': 6513,\n",
       " 'metaphor': 8977,\n",
       " 'appeals': 706,\n",
       " 'conventions': 3004,\n",
       " 'sentimentality': 13595,\n",
       " 'doesnt': 4137,\n",
       " 'bad': 1137,\n",
       " 'light': 8231,\n",
       " 'away': 1086,\n",
       " 'hopelessly': 6832,\n",
       " 'conventional': 3001,\n",
       " 'keep': 7832,\n",
       " 'loonies': 8404,\n",
       " 'path': 11050,\n",
       " 'nnit': 9946,\n",
       " 'telling': 15142,\n",
       " 'generation': 6057,\n",
       " 'grew': 6330,\n",
       " 'part': 10976,\n",
       " 'late': 8052,\n",
       " 'fifties': 5532,\n",
       " 'fully': 5928,\n",
       " 'accept': 74,\n",
       " 'intended': 7430,\n",
       " 'challenge': 2154,\n",
       " 'status': 14480,\n",
       " 'quo': 12326,\n",
       " 'following': 5726,\n",
       " 'countercultural': 3095,\n",
       " 'embarked': 4638,\n",
       " 'yet': 16915,\n",
       " 'midst': 9016,\n",
       " 'slightly': 13990,\n",
       " 'sombre': 14142,\n",
       " 'weight': 16590,\n",
       " 'our': 10737,\n",
       " 'mannerisms': 8670,\n",
       " 'benefit': 1376,\n",
       " 'hindsight': 6742,\n",
       " 'trace': 15586,\n",
       " 'target': 15080,\n",
       " 'audience': 1004,\n",
       " 'weighed': 16588,\n",
       " 'obsession': 10464,\n",
       " 'house': 6859,\n",
       " 'prices': 11819,\n",
       " 'traffic': 15604,\n",
       " 'jams': 7680,\n",
       " 'effects': 4533,\n",
       " 'wealth': 16565,\n",
       " 'instrumental': 7385,\n",
       " 'extremely': 5306,\n",
       " 'men': 8910,\n",
       " 'seemingly': 13495,\n",
       " 'questioning': 12292,\n",
       " 'sanity': 13330,\n",
       " 'established': 5011,\n",
       " 'values': 16198,\n",
       " 'slice': 13981,\n",
       " 'thatchers': 15260,\n",
       " 'property': 11971,\n",
       " 'owning': 10851,\n",
       " 'democracy': 3657,\n",
       " 'thats': 15261,\n",
       " 'call': 1900,\n",
       " 'finally': 5567,\n",
       " 'clicked': 2417,\n",
       " 'full': 5925,\n",
       " 'absolutely': 41,\n",
       " 'smashing': 14024,\n",
       " 'previous': 11816,\n",
       " 'set': 13649,\n",
       " 'nevermind': 9651,\n",
       " 'too': 15502,\n",
       " 'kids': 7861,\n",
       " 'nn': 9777,\n",
       " 'entirely': 4834,\n",
       " 'glib': 6167,\n",
       " 'expand': 5195,\n",
       " 'fathers': 5441,\n",
       " 'favourite': 5464,\n",
       " 'life': 8218,\n",
       " 'literally': 8316,\n",
       " 'aware': 1084,\n",
       " 'existence': 5183,\n",
       " 'loved': 8438,\n",
       " 'five': 5606,\n",
       " 'liked': 8242,\n",
       " 'next': 9666,\n",
       " 'really': 12484,\n",
       " 'disliked': 4023,\n",
       " 'sticking': 14516,\n",
       " 'listened': 8303,\n",
       " 'past': 11040,\n",
       " 'prevented': 11811,\n",
       " 'loving': 8445,\n",
       " 'particularly': 10987,\n",
       " 'wish': 16725,\n",
       " 'wall': 16487,\n",
       " 'exist': 5180,\n",
       " 'further': 5947,\n",
       " 'colour': 2551,\n",
       " 'eclipse': 4487,\n",
       " 'perfectly': 11179,\n",
       " 'enjoyable': 4783,\n",
       " 'despite': 3779,\n",
       " 'inconsequential': 7169,\n",
       " 'compared': 2638,\n",
       " 'goes': 6202,\n",
       " 'before': 1316,\n",
       " 'turns': 15808,\n",
       " 'verses': 16271,\n",
       " 'dislike': 4022,\n",
       " 'might': 9027,\n",
       " 'skipped': 13949,\n",
       " 'lifetime': 8223,\n",
       " 'lunatic': 8493,\n",
       " 'grass': 6291,\n",
       " 'sparking': 14281,\n",
       " 'pavlovian': 11078,\n",
       " 'jump': 7788,\n",
       " 'put': 12201,\n",
       " 'else': 4626,\n",
       " 'forcing': 5752,\n",
       " 'listen': 8301,\n",
       " 'reveals': 12952,\n",
       " 'choruses': 2289,\n",
       " 'far': 5403,\n",
       " 'moreso': 9262,\n",
       " 'id': 6953,\n",
       " 'remembered': 12742,\n",
       " 'considerably': 2870,\n",
       " 'remember': 12741,\n",
       " 'beginning': 1328,\n",
       " 'end': 4741,\n",
       " 'feels': 5495,\n",
       " 'highlights': 6725,\n",
       " 'second': 13473,\n",
       " 'yes': 16913,\n",
       " 'love': 8437,\n",
       " 'desperately': 3772,\n",
       " 'uncool': 15942,\n",
       " 'become': 1301,\n",
       " 'admit': 207,\n",
       " 'parts': 11000,\n",
       " 'afraid': 270,\n",
       " 'isnt': 7617,\n",
       " 'masterpiece': 8750,\n",
       " 'basically': 1234,\n",
       " 'crafted': 3130,\n",
       " 'aor': 668,\n",
       " 'unnecessary': 16066,\n",
       " 'soupy': 14251,\n",
       " 'stuff': 14637,\n",
       " 'run': 13206,\n",
       " 'few': 5516,\n",
       " 'goofy': 6225,\n",
       " 'sometimes': 14153,\n",
       " 'take': 15029,\n",
       " 'damn': 3419,\n",
       " 'passionate': 11034,\n",
       " 'grueling': 6373,\n",
       " 'mean': 8806,\n",
       " 'breathe': 1701,\n",
       " 'combo': 2567,\n",
       " 'possible': 11612,\n",
       " 'signature': 13826,\n",
       " 'switch': 14906,\n",
       " 'guitar': 6406,\n",
       " 'solo': 14132,\n",
       " 'visceral': 16343,\n",
       " 'decision': 3537,\n",
       " 'iota': 7579,\n",
       " 'complex': 2676,\n",
       " 'lot': 8425,\n",
       " 'prog': 11914,\n",
       " 'contemporaries': 2928,\n",
       " 'wrote': 16840,\n",
       " 'themselves': 15289,\n",
       " 'solid': 14126,\n",
       " 'smooth': 14036,\n",
       " 'type': 15849,\n",
       " 'lets': 8187,\n",
       " 'dial': 3852,\n",
       " 'oh': 10549,\n",
       " 'god': 6194,\n",
       " 'peak': 11091,\n",
       " 'recorded': 12560,\n",
       " 'holy': 6798,\n",
       " 'shit': 13734,\n",
       " 'discourse': 3983,\n",
       " 'mmkay': 9153,\n",
       " 'provoking': 12027,\n",
       " 'beautiful': 1294,\n",
       " 'forces': 5751,\n",
       " 'whats': 16627,\n",
       " 'should': 13763,\n",
       " 'important': 7086,\n",
       " 'honestly': 6812,\n",
       " 'change': 2161,\n",
       " 'perception': 11152,\n",
       " 'deeply': 3561,\n",
       " 'focuses': 5706,\n",
       " 'individual': 7216,\n",
       " 'daily': 3399,\n",
       " 'struggle': 14622,\n",
       " 'cannot': 1948,\n",
       " 'unique': 16031,\n",
       " 'individuals': 7219,\n",
       " 'inherent': 7294,\n",
       " 'need': 9590,\n",
       " 'society': 14092,\n",
       " 'plethora': 11453,\n",
       " 'problems': 11866,\n",
       " 'present': 11766,\n",
       " 'yin': 16917,\n",
       " 'yang': 16891,\n",
       " 'nnedit': 9872,\n",
       " 'nonetheless': 10218,\n",
       " 'overrated': 10821,\n",
       " 'hyped': 6917,\n",
       " 'presents': 11776,\n",
       " 'concept': 2740,\n",
       " 'addition': 182,\n",
       " 'easily': 4461,\n",
       " 'worst': 16804,\n",
       " 'fives': 5607,\n",
       " 'theres': 15300,\n",
       " 'theyre': 15305,\n",
       " 'greatest': 6315,\n",
       " 'alright': 465,\n",
       " 'believe': 1347,\n",
       " 'fine': 5575,\n",
       " 'reality': 12469,\n",
       " 'pretentiousness': 11801,\n",
       " 'proceed': 11870,\n",
       " 'nncrimson': 9843,\n",
       " 'king': 7876,\n",
       " 'introduced': 7527,\n",
       " 'perfected': 11177,\n",
       " 'memorable': 8904,\n",
       " 'recordings': 12565,\n",
       " 'terms': 15220,\n",
       " 'production': 11890,\n",
       " 'composition': 2699,\n",
       " 'high': 6720,\n",
       " 'integrity': 7418,\n",
       " 'shrooms': 13785,\n",
       " 'reached': 12446,\n",
       " 'maturity': 8782,\n",
       " 'showing': 13781,\n",
       " 'fanbase': 5389,\n",
       " 'understood': 15969,\n",
       " 'hardships': 6543,\n",
       " 'madness': 8559,\n",
       " 'entire': 4833,\n",
       " 'human': 6890,\n",
       " 'spectrum': 14309,\n",
       " 'monumental': 9241,\n",
       " 'achievement': 126,\n",
       " 'introduces': 7528,\n",
       " 'sign': 13822,\n",
       " 'heart': 6620,\n",
       " 'beat': 1283,\n",
       " 'screams': 13444,\n",
       " 'iconic': 6946,\n",
       " 'groundbreaking': 6357,\n",
       " 'nnbreathe': 9822,\n",
       " 'miles': 9037,\n",
       " 'opus': 10654,\n",
       " 'lays': 8091,\n",
       " 'groundwork': 6359,\n",
       " 'structural': 14617,\n",
       " 'pitch': 11382,\n",
       " 'bends': 1372,\n",
       " 'reverberation': 12962,\n",
       " 'mason': 8730,\n",
       " 'drum': 4304,\n",
       " 'summed': 14780,\n",
       " 'word': 16779,\n",
       " 'perfection': 11178,\n",
       " 'nnon': 10043,\n",
       " 'puts': 12202,\n",
       " 'gilmours': 6125,\n",
       " 'waters': 16542,\n",
       " 'curiosity': 3334,\n",
       " 'led': 8122,\n",
       " 'compose': 2692,\n",
       " 'proto': 12008,\n",
       " 'electronic': 4589,\n",
       " 'arpeggio': 800,\n",
       " 'pattern': 11062,\n",
       " 'sped': 14311,\n",
       " 'create': 3162,\n",
       " 'equivalent': 4900,\n",
       " 'anxiety': 651,\n",
       " 'spiced': 14335,\n",
       " 'airport': 348,\n",
       " 'announcer': 610,\n",
       " 'airplane': 345,\n",
       " 'road': 13088,\n",
       " 'managers': 8643,\n",
       " 'laughing': 8068,\n",
       " 'crash': 3142,\n",
       " 'nntime': 10133,\n",
       " 'sophisticated': 14204,\n",
       " 'classic': 2386,\n",
       " 'special': 14297,\n",
       " 'reprises': 12811,\n",
       " 'lyrics': 8519,\n",
       " 'leading': 8097,\n",
       " 'catch': 2048,\n",
       " 'does': 4135,\n",
       " 'ready': 12458,\n",
       " 'storm': 14554,\n",
       " 'torry': 15531,\n",
       " 'moment': 9193,\n",
       " 'however': 6868,\n",
       " 'credit': 3180,\n",
       " 'given': 6150,\n",
       " 'richard': 13007,\n",
       " 'wright': 16829,\n",
       " 'mastery': 8757,\n",
       " 'craft': 3129,\n",
       " 'creating': 3166,\n",
       " 'recurring': 12579,\n",
       " 'melody': 8890,\n",
       " 'powerful': 11663,\n",
       " 'chords': 2286,\n",
       " 'nnmoney': 9989,\n",
       " 'forced': 5749,\n",
       " 'single': 13898,\n",
       " 'achived': 129,\n",
       " 'maker': 8621,\n",
       " 'summarizes': 14775,\n",
       " 'lives': 8324,\n",
       " 'personalities': 11225,\n",
       " 'class': 2383,\n",
       " 'includes': 7152,\n",
       " 'saxophone': 13379,\n",
       " 'floyds': 5682,\n",
       " 'discography': 3978,\n",
       " 'dick': 3872,\n",
       " 'perry': 11219,\n",
       " 'hell': 6657,\n",
       " 'saxophonist': 13381,\n",
       " 'nnus': 10159,\n",
       " 'heaviest': 6633,\n",
       " 'songs': 14171,\n",
       " 'behind': 1334,\n",
       " 'serves': 13638,\n",
       " 'help': 6659,\n",
       " 'send': 13560,\n",
       " 'state': 14466,\n",
       " 'bliss': 1521,\n",
       " 'violent': 16333,\n",
       " 'sequence': 13616,\n",
       " 'remains': 12732,\n",
       " 'gilmour': 6121,\n",
       " 'singing': 13897,\n",
       " 'aspects': 889,\n",
       " 'humanity': 6894,\n",
       " 'wanting': 16503,\n",
       " 'price': 11818,\n",
       " 'tea': 15099,\n",
       " 'old': 10569,\n",
       " 'man': 8639,\n",
       " 'died': 3883,\n",
       " 'nnany': 9798,\n",
       " 'since': 13881,\n",
       " 'started': 14458,\n",
       " 'listening': 8306,\n",
       " 'probably': 11861,\n",
       " 'die': 3882,\n",
       " 'monogamic': 9223,\n",
       " 'tune': 15795,\n",
       " 'due': 4328,\n",
       " 'unmatchable': 16061,\n",
       " 'standard': 14430,\n",
       " 'synthesizers': 14965,\n",
       " 'front': 5888,\n",
       " 'row': 13172,\n",
       " 'bass': 1239,\n",
       " 'serve': 13636,\n",
       " 'base': 1225,\n",
       " 'try': 15776,\n",
       " 'achieve': 124,\n",
       " 'wants': 16505,\n",
       " 'cried': 3201,\n",
       " 'synth': 14958,\n",
       " 'embodiment': 4648,\n",
       " 'view': 16319,\n",
       " 'madman': 8558,\n",
       " 'asylum': 931,\n",
       " ...}"
      ]
     },
     "execution_count": 31,
     "metadata": {},
     "output_type": "execute_result"
    }
   ],
   "source": [
    "## List of all words in corpus and number of times they appear\n",
    "vec.vocabulary_"
   ]
  },
  {
   "cell_type": "code",
   "execution_count": 32,
   "id": "f14374da",
   "metadata": {},
   "outputs": [
    {
     "data": {
      "text/plain": [
       "(1547, 18857)"
      ]
     },
     "execution_count": 32,
     "metadata": {},
     "output_type": "execute_result"
    }
   ],
   "source": [
    "## 1547 reviews with 19013 distinct words total \n",
    "reviews_vectorized.shape"
   ]
  },
  {
   "cell_type": "code",
   "execution_count": 33,
   "id": "5bed6109",
   "metadata": {},
   "outputs": [
    {
     "name": "stdout",
     "output_type": "stream",
     "text": [
      "CountVectorizer()\n"
     ]
    }
   ],
   "source": [
    "print(vec)"
   ]
  },
  {
   "cell_type": "markdown",
   "id": "b4908283",
   "metadata": {},
   "source": [
    "#  Vectorizer Binary"
   ]
  },
  {
   "cell_type": "code",
   "execution_count": 34,
   "id": "f49395c5",
   "metadata": {},
   "outputs": [],
   "source": [
    "vec = CountVectorizer(binary = True)"
   ]
  },
  {
   "cell_type": "code",
   "execution_count": 35,
   "id": "e0acf303",
   "metadata": {},
   "outputs": [],
   "source": [
    "reviews_binary_vectorized = vec.fit_transform(reviews_only)"
   ]
  },
  {
   "cell_type": "code",
   "execution_count": 36,
   "id": "a682f5d3",
   "metadata": {},
   "outputs": [
    {
     "data": {
      "text/plain": [
       "array([[0, 0, 0, ..., 0, 0, 0],\n",
       "       [0, 0, 0, ..., 0, 0, 0],\n",
       "       [0, 0, 0, ..., 0, 0, 0],\n",
       "       ...,\n",
       "       [0, 0, 0, ..., 0, 0, 0],\n",
       "       [0, 0, 0, ..., 0, 0, 0],\n",
       "       [0, 0, 0, ..., 0, 0, 0]])"
      ]
     },
     "execution_count": 36,
     "metadata": {},
     "output_type": "execute_result"
    }
   ],
   "source": [
    "reviews_binary_vectorized.toarray()"
   ]
  },
  {
   "cell_type": "code",
   "execution_count": 37,
   "id": "998b4496",
   "metadata": {},
   "outputs": [
    {
     "data": {
      "text/plain": [
       "array([0, 1])"
      ]
     },
     "execution_count": 37,
     "metadata": {},
     "output_type": "execute_result"
    }
   ],
   "source": [
    "pd.unique(reviews_binary_vectorized.toarray().reshape(-1))"
   ]
  },
  {
   "cell_type": "code",
   "execution_count": 38,
   "id": "dfb9eb0e",
   "metadata": {},
   "outputs": [
    {
     "data": {
      "text/plain": [
       "'          what turned me on to pink floyd in the first place was their heavy oppressively dark tone that permeates throughout their discography  the crisp basslines and odd vocals distinguish themselves entirely from anything else ive heard  as for the album itself unlike many other prog rock albums ive heard this really feels like an  album experience  as opposed to a collection of tracks  they all flow together seamlessly and create an overwhelming dark tone  passionate and pessimistic inventive and powerful this album is a masterpiece  '"
      ]
     },
     "execution_count": 38,
     "metadata": {},
     "output_type": "execute_result"
    }
   ],
   "source": [
    "reviews_only[245]"
   ]
  },
  {
   "cell_type": "code",
   "execution_count": 39,
   "id": "4f832781",
   "metadata": {},
   "outputs": [
    {
     "data": {
      "text/plain": [
       "oppressively    1\n",
       "album           1\n",
       "crisp           1\n",
       "first           1\n",
       "tracks          1\n",
       "flow            1\n",
       "floyd           1\n",
       "overwhelming    1\n",
       "for             1\n",
       "tone            1\n",
       "together        1\n",
       "rock            1\n",
       "powerful        1\n",
       "collection      1\n",
       "odd             1\n",
       "what            1\n",
       "to              1\n",
       "of              1\n",
       "dark            1\n",
       "else            1\n",
       "Name:           what turned me on to pink floyd in the first place was their heavy oppressively dark tone that permeates throughout their discography  the crisp basslines and odd vocals distinguish themselves entirely from anything else ive heard  as for the album itself unlike many other prog rock albums ive heard this really feels like an  album experience  as opposed to a collection of tracks  they all flow together seamlessly and create an overwhelming dark tone  passionate and pessimistic inventive and powerful this album is a masterpiece  , dtype: int64"
      ]
     },
     "execution_count": 39,
     "metadata": {},
     "output_type": "execute_result"
    }
   ],
   "source": [
    "i = 245\n",
    "\n",
    "words_count_binary = pd.Series(name=reviews_only[i],\n",
    "                data=reviews_binary_vectorized.toarray()[i], \n",
    "                index=vec.get_feature_names()) \\\n",
    "        .sort_values(ascending=False)\n",
    "\n",
    "words_count_binary[:20]"
   ]
  },
  {
   "cell_type": "markdown",
   "id": "6c8efb74",
   "metadata": {},
   "source": [
    "## TFIDF Vectorize"
   ]
  },
  {
   "cell_type": "code",
   "execution_count": 40,
   "id": "ff835394",
   "metadata": {},
   "outputs": [],
   "source": [
    "t_vec = TfidfVectorizer(stop_words='english',\n",
    "                          lowercase = True,\n",
    "                          token_pattern = r'\\b[a-zA-Z]{3,}\\b',\n",
    "                          max_df=.8,\n",
    "                          min_df = .01)"
   ]
  },
  {
   "cell_type": "code",
   "execution_count": 41,
   "id": "05729912",
   "metadata": {},
   "outputs": [],
   "source": [
    "reviews_t_vectorized = t_vec.fit_transform(reviews_only.values)"
   ]
  },
  {
   "cell_type": "code",
   "execution_count": 42,
   "id": "6b82df7d",
   "metadata": {},
   "outputs": [
    {
     "data": {
      "text/plain": [
       "(1547, 815)"
      ]
     },
     "execution_count": 42,
     "metadata": {},
     "output_type": "execute_result"
    }
   ],
   "source": [
    "reviews_t_vectorized.shape"
   ]
  },
  {
   "cell_type": "code",
   "execution_count": 43,
   "id": "66e4c6ae",
   "metadata": {},
   "outputs": [
    {
     "data": {
      "text/plain": [
       "say         0.645192\n",
       "wish        0.405262\n",
       "better      0.371694\n",
       "know        0.363804\n",
       "greatest    0.351368\n",
       "Name:  boomers will say its the greatest album of all timenzoomers will say its overratedntrue patricians know that wish you were here has always been better , dtype: float64"
      ]
     },
     "execution_count": 43,
     "metadata": {},
     "output_type": "execute_result"
    }
   ],
   "source": [
    "i = 309\n",
    "\n",
    "word_freq_tfidf = pd.Series(name=reviews_only[i],\n",
    "                data=reviews_t_vectorized.toarray()[i], \n",
    "                index=t_vec.get_feature_names()) \\\n",
    "        .sort_values(ascending=False)\n",
    "\n",
    "word_freq_tfidf.head()"
   ]
  },
  {
   "cell_type": "code",
   "execution_count": 44,
   "id": "251bf9a2",
   "metadata": {},
   "outputs": [
    {
     "name": "stdout",
     "output_type": "stream",
     "text": [
      "  (0, 603)\t0.06553899482620726\n",
      "  (0, 455)\t0.09367244388082006\n",
      "  (0, 250)\t0.13299488746410978\n",
      "  (0, 171)\t0.07037970439728417\n",
      "  (0, 317)\t0.1297588327637588\n",
      "  (0, 21)\t0.1297588327637588\n",
      "  (0, 226)\t0.09319024584332755\n",
      "  (0, 478)\t0.11487922990815352\n",
      "  (0, 24)\t0.12350966084500398\n",
      "  (0, 245)\t0.0538723953166695\n",
      "  (0, 527)\t0.055221444866644355\n",
      "  (0, 188)\t0.12781059236322134\n",
      "  (0, 277)\t0.06602427418943617\n",
      "  (0, 749)\t0.10194786745308572\n",
      "  (0, 104)\t0.11324546102437823\n",
      "  (0, 234)\t0.12600163501863035\n",
      "  (0, 232)\t0.13952173637053836\n",
      "  (0, 335)\t0.1297588327637588\n",
      "  (0, 635)\t0.1112192093708674\n",
      "  (0, 327)\t0.1287659748609147\n",
      "  (0, 636)\t0.09819066970795726\n",
      "  (0, 471)\t0.13540762954940505\n",
      "  (0, 665)\t0.1476032082147168\n",
      "  (0, 227)\t0.13540762954940505\n",
      "  (0, 500)\t0.11221206727371147\n",
      "  :\t:\n",
      "  (1545, 274)\t0.1945353341410361\n",
      "  (1545, 342)\t0.1790379577506562\n",
      "  (1545, 39)\t0.17266907058328332\n",
      "  (1545, 416)\t0.18513345093652153\n",
      "  (1545, 444)\t0.18713546599042036\n",
      "  (1545, 352)\t0.10877243463085719\n",
      "  (1545, 658)\t0.12302518240526791\n",
      "  (1545, 396)\t0.16797337124241796\n",
      "  (1545, 616)\t0.13032536368637052\n",
      "  (1545, 603)\t0.11660213924572044\n",
      "  (1545, 277)\t0.11746551244871722\n",
      "  (1545, 665)\t0.13130236344794632\n",
      "  (1546, 774)\t0.28365643041420374\n",
      "  (1546, 34)\t0.3265198136001867\n",
      "  (1546, 145)\t0.33729895635648227\n",
      "  (1546, 258)\t0.3396769469384471\n",
      "  (1546, 528)\t0.33500159133765867\n",
      "  (1546, 574)\t0.3031514298206023\n",
      "  (1546, 407)\t0.21246149622399596\n",
      "  (1546, 386)\t0.18461554108567063\n",
      "  (1546, 180)\t0.3265198136001867\n",
      "  (1546, 245)\t0.28842645913364096\n",
      "  (1546, 527)\t0.14782455576280532\n",
      "  (1546, 667)\t0.2259367793383047\n",
      "  (1546, 16)\t0.1942128910122452\n"
     ]
    }
   ],
   "source": [
    "print(reviews_t_vectorized)"
   ]
  },
  {
   "cell_type": "markdown",
   "id": "4b04c294",
   "metadata": {},
   "source": [
    "## Count Vectorizer, max_df used"
   ]
  },
  {
   "cell_type": "code",
   "execution_count": 45,
   "id": "e4afc898",
   "metadata": {},
   "outputs": [],
   "source": [
    "max_vec = CountVectorizer(stop_words='english',\n",
    "                          lowercase = True,\n",
    "                          token_pattern = r'\\b[a-zA-Z]{3,}\\b',\n",
    "                          max_df=.8)"
   ]
  },
  {
   "cell_type": "code",
   "execution_count": 46,
   "id": "2bd24daa",
   "metadata": {},
   "outputs": [],
   "source": [
    "max_vectorized = max_vec.fit_transform(reviews_only) \n"
   ]
  },
  {
   "cell_type": "code",
   "execution_count": 47,
   "id": "cdf4d7b4",
   "metadata": {},
   "outputs": [
    {
     "data": {
      "text/plain": [
       "array([[0, 0, 0, ..., 0, 0, 0],\n",
       "       [0, 0, 0, ..., 0, 0, 0],\n",
       "       [0, 0, 0, ..., 0, 0, 0],\n",
       "       ...,\n",
       "       [0, 0, 0, ..., 0, 0, 0],\n",
       "       [0, 0, 0, ..., 0, 0, 0],\n",
       "       [0, 0, 0, ..., 0, 0, 0]])"
      ]
     },
     "execution_count": 47,
     "metadata": {},
     "output_type": "execute_result"
    }
   ],
   "source": [
    "max_vectorized.toarray()"
   ]
  },
  {
   "cell_type": "code",
   "execution_count": 48,
   "id": "3445408d",
   "metadata": {},
   "outputs": [
    {
     "data": {
      "text/plain": [
       "False"
      ]
     },
     "execution_count": 48,
     "metadata": {},
     "output_type": "execute_result"
    }
   ],
   "source": [
    "\"the\" in max_vec.get_feature_names()"
   ]
  },
  {
   "cell_type": "code",
   "execution_count": 49,
   "id": "262f4860",
   "metadata": {},
   "outputs": [
    {
     "data": {
      "text/plain": [
       "False"
      ]
     },
     "execution_count": 49,
     "metadata": {},
     "output_type": "execute_result"
    }
   ],
   "source": [
    "\"is\" in max_vec.get_feature_names()"
   ]
  },
  {
   "cell_type": "code",
   "execution_count": 50,
   "id": "d7a3483a",
   "metadata": {},
   "outputs": [
    {
     "data": {
      "text/plain": [
       "(1547, 15460)"
      ]
     },
     "execution_count": 50,
     "metadata": {},
     "output_type": "execute_result"
    }
   ],
   "source": [
    "max_vectorized.shape"
   ]
  },
  {
   "cell_type": "code",
   "execution_count": 51,
   "id": "cc29845d",
   "metadata": {},
   "outputs": [],
   "source": [
    "stemmer = SnowballStemmer(\"english\")"
   ]
  },
  {
   "cell_type": "code",
   "execution_count": 52,
   "id": "aaaa7ce1",
   "metadata": {},
   "outputs": [],
   "source": [
    "def prep(word, stemmer=None):\n",
    "    \n",
    "    with open('stop_words_english_c.txt', 'r') as f:\n",
    "        stopwords = [s.strip() for s in f.readlines()]\n",
    "        \n",
    "    if word.lower() in stopwords:\n",
    "        return None\n",
    "    \n",
    "    elif stemmer is None:\n",
    "        return word.lower()\n",
    "    \n",
    "    else:\n",
    "        return stemmer.stem(word)"
   ]
  },
  {
   "cell_type": "code",
   "execution_count": 53,
   "id": "ebc8373f",
   "metadata": {},
   "outputs": [],
   "source": [
    "max_vec = CountVectorizer(stop_words=['english', 'spanish'],\n",
    "                          lowercase = True,\n",
    "                          token_pattern = r'\\b[a-zA-Z]{3,}\\b',\n",
    "                          max_df=.8,\n",
    "                          min_df = .01)"
   ]
  },
  {
   "cell_type": "code",
   "execution_count": 54,
   "id": "9774767d",
   "metadata": {},
   "outputs": [
    {
     "data": {
      "text/plain": [
       "array([[1, 2, 0, ..., 0, 0, 0],\n",
       "       [0, 3, 0, ..., 0, 0, 0],\n",
       "       [0, 2, 0, ..., 0, 0, 1],\n",
       "       ...,\n",
       "       [0, 0, 0, ..., 0, 0, 0],\n",
       "       [0, 0, 0, ..., 0, 0, 0],\n",
       "       [0, 1, 0, ..., 0, 0, 0]])"
      ]
     },
     "execution_count": 54,
     "metadata": {},
     "output_type": "execute_result"
    }
   ],
   "source": [
    "max_vectorized = max_vec.fit_transform(reviews_only)\n",
    "\n",
    "max_vectorized.toarray()"
   ]
  },
  {
   "cell_type": "code",
   "execution_count": 55,
   "id": "6d4f8164",
   "metadata": {},
   "outputs": [
    {
     "data": {
      "text/plain": [
       "(1547, 1009)"
      ]
     },
     "execution_count": 55,
     "metadata": {},
     "output_type": "execute_result"
    }
   ],
   "source": [
    "max_vectorized.shape\n"
   ]
  },
  {
   "cell_type": "code",
   "execution_count": 56,
   "id": "7a38dc85",
   "metadata": {},
   "outputs": [
    {
     "data": {
      "text/plain": [
       "[]"
      ]
     },
     "execution_count": 56,
     "metadata": {},
     "output_type": "execute_result"
    }
   ],
   "source": [
    "max_vec.get_feature_names()[2000:4000]"
   ]
  },
  {
   "cell_type": "code",
   "execution_count": 57,
   "id": "fa2dc9d2",
   "metadata": {},
   "outputs": [],
   "source": [
    "max_vectorized = max_vec.fit_transform(reviews_only).toarray()\n"
   ]
  },
  {
   "cell_type": "code",
   "execution_count": 58,
   "id": "9cc50b46",
   "metadata": {},
   "outputs": [
    {
     "data": {
      "text/html": [
       "<div>\n",
       "<style scoped>\n",
       "    .dataframe tbody tr th:only-of-type {\n",
       "        vertical-align: middle;\n",
       "    }\n",
       "\n",
       "    .dataframe tbody tr th {\n",
       "        vertical-align: top;\n",
       "    }\n",
       "\n",
       "    .dataframe thead th {\n",
       "        text-align: right;\n",
       "    }\n",
       "</style>\n",
       "<table border=\"1\" class=\"dataframe\">\n",
       "  <thead>\n",
       "    <tr style=\"text-align: right;\">\n",
       "      <th></th>\n",
       "      <th>able</th>\n",
       "      <th>about</th>\n",
       "      <th>above</th>\n",
       "      <th>absolute</th>\n",
       "      <th>absolutely</th>\n",
       "      <th>accessible</th>\n",
       "      <th>achievement</th>\n",
       "      <th>across</th>\n",
       "      <th>actual</th>\n",
       "      <th>actually</th>\n",
       "      <th>...</th>\n",
       "      <th>years</th>\n",
       "      <th>yes</th>\n",
       "      <th>yet</th>\n",
       "      <th>you</th>\n",
       "      <th>youll</th>\n",
       "      <th>young</th>\n",
       "      <th>your</th>\n",
       "      <th>youre</th>\n",
       "      <th>yourself</th>\n",
       "      <th>youve</th>\n",
       "    </tr>\n",
       "  </thead>\n",
       "  <tbody>\n",
       "    <tr>\n",
       "      <th>0</th>\n",
       "      <td>1</td>\n",
       "      <td>2</td>\n",
       "      <td>0</td>\n",
       "      <td>0</td>\n",
       "      <td>0</td>\n",
       "      <td>0</td>\n",
       "      <td>0</td>\n",
       "      <td>0</td>\n",
       "      <td>2</td>\n",
       "      <td>0</td>\n",
       "      <td>...</td>\n",
       "      <td>1</td>\n",
       "      <td>0</td>\n",
       "      <td>0</td>\n",
       "      <td>0</td>\n",
       "      <td>0</td>\n",
       "      <td>0</td>\n",
       "      <td>0</td>\n",
       "      <td>0</td>\n",
       "      <td>0</td>\n",
       "      <td>0</td>\n",
       "    </tr>\n",
       "    <tr>\n",
       "      <th>1</th>\n",
       "      <td>0</td>\n",
       "      <td>3</td>\n",
       "      <td>0</td>\n",
       "      <td>0</td>\n",
       "      <td>0</td>\n",
       "      <td>0</td>\n",
       "      <td>0</td>\n",
       "      <td>0</td>\n",
       "      <td>0</td>\n",
       "      <td>1</td>\n",
       "      <td>...</td>\n",
       "      <td>0</td>\n",
       "      <td>0</td>\n",
       "      <td>0</td>\n",
       "      <td>5</td>\n",
       "      <td>0</td>\n",
       "      <td>0</td>\n",
       "      <td>2</td>\n",
       "      <td>0</td>\n",
       "      <td>0</td>\n",
       "      <td>0</td>\n",
       "    </tr>\n",
       "    <tr>\n",
       "      <th>2</th>\n",
       "      <td>0</td>\n",
       "      <td>2</td>\n",
       "      <td>0</td>\n",
       "      <td>0</td>\n",
       "      <td>0</td>\n",
       "      <td>0</td>\n",
       "      <td>0</td>\n",
       "      <td>0</td>\n",
       "      <td>0</td>\n",
       "      <td>0</td>\n",
       "      <td>...</td>\n",
       "      <td>1</td>\n",
       "      <td>0</td>\n",
       "      <td>1</td>\n",
       "      <td>2</td>\n",
       "      <td>0</td>\n",
       "      <td>0</td>\n",
       "      <td>1</td>\n",
       "      <td>0</td>\n",
       "      <td>0</td>\n",
       "      <td>1</td>\n",
       "    </tr>\n",
       "    <tr>\n",
       "      <th>3</th>\n",
       "      <td>0</td>\n",
       "      <td>0</td>\n",
       "      <td>0</td>\n",
       "      <td>0</td>\n",
       "      <td>1</td>\n",
       "      <td>0</td>\n",
       "      <td>0</td>\n",
       "      <td>0</td>\n",
       "      <td>0</td>\n",
       "      <td>1</td>\n",
       "      <td>...</td>\n",
       "      <td>3</td>\n",
       "      <td>1</td>\n",
       "      <td>0</td>\n",
       "      <td>3</td>\n",
       "      <td>0</td>\n",
       "      <td>0</td>\n",
       "      <td>0</td>\n",
       "      <td>0</td>\n",
       "      <td>0</td>\n",
       "      <td>0</td>\n",
       "    </tr>\n",
       "    <tr>\n",
       "      <th>4</th>\n",
       "      <td>0</td>\n",
       "      <td>0</td>\n",
       "      <td>0</td>\n",
       "      <td>0</td>\n",
       "      <td>0</td>\n",
       "      <td>0</td>\n",
       "      <td>0</td>\n",
       "      <td>0</td>\n",
       "      <td>0</td>\n",
       "      <td>0</td>\n",
       "      <td>...</td>\n",
       "      <td>0</td>\n",
       "      <td>0</td>\n",
       "      <td>0</td>\n",
       "      <td>0</td>\n",
       "      <td>0</td>\n",
       "      <td>0</td>\n",
       "      <td>0</td>\n",
       "      <td>0</td>\n",
       "      <td>0</td>\n",
       "      <td>0</td>\n",
       "    </tr>\n",
       "    <tr>\n",
       "      <th>...</th>\n",
       "      <td>...</td>\n",
       "      <td>...</td>\n",
       "      <td>...</td>\n",
       "      <td>...</td>\n",
       "      <td>...</td>\n",
       "      <td>...</td>\n",
       "      <td>...</td>\n",
       "      <td>...</td>\n",
       "      <td>...</td>\n",
       "      <td>...</td>\n",
       "      <td>...</td>\n",
       "      <td>...</td>\n",
       "      <td>...</td>\n",
       "      <td>...</td>\n",
       "      <td>...</td>\n",
       "      <td>...</td>\n",
       "      <td>...</td>\n",
       "      <td>...</td>\n",
       "      <td>...</td>\n",
       "      <td>...</td>\n",
       "      <td>...</td>\n",
       "    </tr>\n",
       "    <tr>\n",
       "      <th>1542</th>\n",
       "      <td>0</td>\n",
       "      <td>0</td>\n",
       "      <td>0</td>\n",
       "      <td>0</td>\n",
       "      <td>1</td>\n",
       "      <td>0</td>\n",
       "      <td>0</td>\n",
       "      <td>0</td>\n",
       "      <td>0</td>\n",
       "      <td>0</td>\n",
       "      <td>...</td>\n",
       "      <td>0</td>\n",
       "      <td>0</td>\n",
       "      <td>0</td>\n",
       "      <td>1</td>\n",
       "      <td>0</td>\n",
       "      <td>0</td>\n",
       "      <td>0</td>\n",
       "      <td>0</td>\n",
       "      <td>0</td>\n",
       "      <td>0</td>\n",
       "    </tr>\n",
       "    <tr>\n",
       "      <th>1543</th>\n",
       "      <td>0</td>\n",
       "      <td>0</td>\n",
       "      <td>0</td>\n",
       "      <td>0</td>\n",
       "      <td>0</td>\n",
       "      <td>0</td>\n",
       "      <td>0</td>\n",
       "      <td>0</td>\n",
       "      <td>0</td>\n",
       "      <td>0</td>\n",
       "      <td>...</td>\n",
       "      <td>0</td>\n",
       "      <td>0</td>\n",
       "      <td>0</td>\n",
       "      <td>1</td>\n",
       "      <td>0</td>\n",
       "      <td>0</td>\n",
       "      <td>0</td>\n",
       "      <td>0</td>\n",
       "      <td>0</td>\n",
       "      <td>0</td>\n",
       "    </tr>\n",
       "    <tr>\n",
       "      <th>1544</th>\n",
       "      <td>0</td>\n",
       "      <td>0</td>\n",
       "      <td>0</td>\n",
       "      <td>0</td>\n",
       "      <td>0</td>\n",
       "      <td>0</td>\n",
       "      <td>0</td>\n",
       "      <td>0</td>\n",
       "      <td>0</td>\n",
       "      <td>0</td>\n",
       "      <td>...</td>\n",
       "      <td>0</td>\n",
       "      <td>0</td>\n",
       "      <td>0</td>\n",
       "      <td>0</td>\n",
       "      <td>0</td>\n",
       "      <td>0</td>\n",
       "      <td>0</td>\n",
       "      <td>0</td>\n",
       "      <td>0</td>\n",
       "      <td>0</td>\n",
       "    </tr>\n",
       "    <tr>\n",
       "      <th>1545</th>\n",
       "      <td>0</td>\n",
       "      <td>0</td>\n",
       "      <td>0</td>\n",
       "      <td>0</td>\n",
       "      <td>0</td>\n",
       "      <td>0</td>\n",
       "      <td>0</td>\n",
       "      <td>0</td>\n",
       "      <td>0</td>\n",
       "      <td>0</td>\n",
       "      <td>...</td>\n",
       "      <td>0</td>\n",
       "      <td>0</td>\n",
       "      <td>0</td>\n",
       "      <td>1</td>\n",
       "      <td>0</td>\n",
       "      <td>0</td>\n",
       "      <td>0</td>\n",
       "      <td>0</td>\n",
       "      <td>0</td>\n",
       "      <td>0</td>\n",
       "    </tr>\n",
       "    <tr>\n",
       "      <th>1546</th>\n",
       "      <td>0</td>\n",
       "      <td>1</td>\n",
       "      <td>0</td>\n",
       "      <td>0</td>\n",
       "      <td>0</td>\n",
       "      <td>0</td>\n",
       "      <td>0</td>\n",
       "      <td>0</td>\n",
       "      <td>0</td>\n",
       "      <td>0</td>\n",
       "      <td>...</td>\n",
       "      <td>0</td>\n",
       "      <td>0</td>\n",
       "      <td>0</td>\n",
       "      <td>0</td>\n",
       "      <td>0</td>\n",
       "      <td>0</td>\n",
       "      <td>0</td>\n",
       "      <td>0</td>\n",
       "      <td>0</td>\n",
       "      <td>0</td>\n",
       "    </tr>\n",
       "  </tbody>\n",
       "</table>\n",
       "<p>1547 rows × 1009 columns</p>\n",
       "</div>"
      ],
      "text/plain": [
       "      able  about  above  absolute  absolutely  accessible  achievement  \\\n",
       "0        1      2      0         0           0           0            0   \n",
       "1        0      3      0         0           0           0            0   \n",
       "2        0      2      0         0           0           0            0   \n",
       "3        0      0      0         0           1           0            0   \n",
       "4        0      0      0         0           0           0            0   \n",
       "...    ...    ...    ...       ...         ...         ...          ...   \n",
       "1542     0      0      0         0           1           0            0   \n",
       "1543     0      0      0         0           0           0            0   \n",
       "1544     0      0      0         0           0           0            0   \n",
       "1545     0      0      0         0           0           0            0   \n",
       "1546     0      1      0         0           0           0            0   \n",
       "\n",
       "      across  actual  actually  ...  years  yes  yet  you  youll  young  your  \\\n",
       "0          0       2         0  ...      1    0    0    0      0      0     0   \n",
       "1          0       0         1  ...      0    0    0    5      0      0     2   \n",
       "2          0       0         0  ...      1    0    1    2      0      0     1   \n",
       "3          0       0         1  ...      3    1    0    3      0      0     0   \n",
       "4          0       0         0  ...      0    0    0    0      0      0     0   \n",
       "...      ...     ...       ...  ...    ...  ...  ...  ...    ...    ...   ...   \n",
       "1542       0       0         0  ...      0    0    0    1      0      0     0   \n",
       "1543       0       0         0  ...      0    0    0    1      0      0     0   \n",
       "1544       0       0         0  ...      0    0    0    0      0      0     0   \n",
       "1545       0       0         0  ...      0    0    0    1      0      0     0   \n",
       "1546       0       0         0  ...      0    0    0    0      0      0     0   \n",
       "\n",
       "      youre  yourself  youve  \n",
       "0         0         0      0  \n",
       "1         0         0      0  \n",
       "2         0         0      1  \n",
       "3         0         0      0  \n",
       "4         0         0      0  \n",
       "...     ...       ...    ...  \n",
       "1542      0         0      0  \n",
       "1543      0         0      0  \n",
       "1544      0         0      0  \n",
       "1545      0         0      0  \n",
       "1546      0         0      0  \n",
       "\n",
       "[1547 rows x 1009 columns]"
      ]
     },
     "execution_count": 58,
     "metadata": {},
     "output_type": "execute_result"
    }
   ],
   "source": [
    "pd.DataFrame(max_vectorized, columns =max_vec.get_feature_names())"
   ]
  },
  {
   "cell_type": "markdown",
   "id": "c348fcc2",
   "metadata": {},
   "source": [
    "## PCA "
   ]
  },
  {
   "cell_type": "code",
   "execution_count": 59,
   "id": "5e438244",
   "metadata": {},
   "outputs": [],
   "source": [
    "pca = PCA(n_components=20)"
   ]
  },
  {
   "cell_type": "code",
   "execution_count": 60,
   "id": "7ea00f7a",
   "metadata": {},
   "outputs": [],
   "source": [
    "X = pca.fit_transform(max_vectorized)"
   ]
  },
  {
   "cell_type": "code",
   "execution_count": 61,
   "id": "e21d1717",
   "metadata": {},
   "outputs": [],
   "source": [
    "def show_variance_explained_plots(pca):\n",
    "    \n",
    "    var_exp_array = pca.explained_variance_ratio_\n",
    "    n_comps = var_exp_array.shape[0] \n",
    "    \n",
    "    fig, ax = plt.subplots(1,2,figsize=(10,4))\n",
    "    \n",
    "    ax[0].fill_between(range(n_comps), var_exp_array)\n",
    "    ax[0].set_title('Variance Explained by Nth Principal Component')\n",
    "    \n",
    "    ax[1].fill_between(range(n_comps), np.cumsum(var_exp_array))\n",
    "    ax[1].set_title('Cumulative Variance Explained by N Components')\n",
    "    \n",
    "    plt.show()"
   ]
  },
  {
   "cell_type": "code",
   "execution_count": 62,
   "id": "9c942cf3",
   "metadata": {},
   "outputs": [
    {
     "data": {
      "image/png": "[encoded data removed]",
      "text/plain": [
       "<Figure size 720x288 with 2 Axes>"
      ]
     },
     "metadata": {
      "needs_background": "light"
     },
     "output_type": "display_data"
    }
   ],
   "source": [
    "show_variance_explained_plots(pca) "
   ]
  },
  {
   "cell_type": "code",
   "execution_count": 63,
   "id": "dfd0a4a3",
   "metadata": {},
   "outputs": [
    {
     "name": "stdout",
     "output_type": "stream",
     "text": [
      "[[ 6.05999549 -0.87119251  6.54004134 ...  0.92927574 -0.8688669\n",
      "   0.67545081]\n",
      " [46.37311075 -0.11827661 -6.51131949 ... -3.72187972 -1.09616289\n",
      "   2.47664313]\n",
      " [37.64251247 -0.31416752 -2.57169566 ... -1.55272233  0.96111328\n",
      "   0.45382202]\n",
      " ...\n",
      " [-8.81297525 -0.36496288 -0.83857565 ...  0.33561232  0.2443307\n",
      "   0.11925233]\n",
      " [-5.38479895 -0.53154088  0.58084779 ...  0.14840713  0.05395759\n",
      "   0.30953261]\n",
      " [-5.17365557 -0.41888616 -0.90961238 ...  0.09579204  0.63632398\n",
      "   0.27738168]]\n"
     ]
    }
   ],
   "source": [
    "print(X)"
   ]
  },
  {
   "cell_type": "code",
   "execution_count": null,
   "id": "83f90329",
   "metadata": {},
   "outputs": [],
   "source": []
  },
  {
   "cell_type": "code",
   "execution_count": 64,
   "id": "77c76e28",
   "metadata": {},
   "outputs": [],
   "source": [
    "from sklearn.cluster import KMeans\n",
    "\n",
    "k_means_cluster = KMeans(n_clusters=2, random_state=3)\n",
    "\n",
    "cluster_labels = k_means_cluster.fit_predict(X)"
   ]
  },
  {
   "cell_type": "code",
   "execution_count": 65,
   "id": "89db5d2b",
   "metadata": {},
   "outputs": [],
   "source": [
    "## goals for tomorrow implement PCA, LSA, and NMF "
   ]
  },
  {
   "cell_type": "code",
   "execution_count": 66,
   "id": "70451bb5",
   "metadata": {},
   "outputs": [
    {
     "data": {
      "text/plain": [
       "Text(0.5, 0, '# components')"
      ]
     },
     "execution_count": 66,
     "metadata": {},
     "output_type": "execute_result"
    },
    {
     "data": {
      "image/png": "[encoded data removed]",
      "text/plain": [
       "<Figure size 432x288 with 1 Axes>"
      ]
     },
     "metadata": {
      "needs_background": "light"
     },
     "output_type": "display_data"
    }
   ],
   "source": [
    "plt.plot(pca.explained_variance_ratio_)\n",
    "plt.xlabel(\"# components\")"
   ]
  },
  {
   "cell_type": "code",
   "execution_count": 67,
   "id": "8a6a2521",
   "metadata": {},
   "outputs": [
    {
     "data": {
      "image/png": "[encoded data removed]",
      "text/plain": [
       "<Figure size 432x288 with 1 Axes>"
      ]
     },
     "metadata": {
      "needs_background": "light"
     },
     "output_type": "display_data"
    }
   ],
   "source": [
    "plt.plot(np.cumsum(pca.explained_variance_ratio_))\n",
    "plt.xlabel('# components')\n",
    "plt.ylabel('cumulative explained variance');\n",
    "plt.title('Cumulative explained variance by PCA for digits');"
   ]
  },
  {
   "cell_type": "markdown",
   "id": "753c400a",
   "metadata": {},
   "source": [
    "## LDA with pyLDAvis"
   ]
  },
  {
   "cell_type": "code",
   "execution_count": 68,
   "id": "596c890f",
   "metadata": {},
   "outputs": [],
   "source": [
    "tfidf_vectorizer = TfidfVectorizer(**max_vec.get_params())"
   ]
  },
  {
   "cell_type": "code",
   "execution_count": 69,
   "id": "e3e01b31",
   "metadata": {},
   "outputs": [
    {
     "name": "stderr",
     "output_type": "stream",
     "text": [
      "/opt/anaconda3/envs/metis/lib/python3.8/site-packages/sklearn/feature_extraction/text.py:1801: UserWarning: Only (<class 'numpy.float64'>, <class 'numpy.float32'>, <class 'numpy.float16'>) 'dtype' should be used. <class 'numpy.int64'> 'dtype' will be converted to np.float64.\n",
      "  warnings.warn(\"Only {} 'dtype' should be used. {} 'dtype' will \"\n"
     ]
    }
   ],
   "source": [
    "tfidf_vectorized = tfidf_vectorizer.fit_transform(reviews_only)"
   ]
  },
  {
   "cell_type": "code",
   "execution_count": 70,
   "id": "b40db9c7",
   "metadata": {},
   "outputs": [
    {
     "data": {
      "text/plain": [
       "LatentDirichletAllocation(n_components=20, random_state=0)"
      ]
     },
     "execution_count": 70,
     "metadata": {},
     "output_type": "execute_result"
    }
   ],
   "source": [
    "lda_tf = LatentDirichletAllocation(n_components=20, random_state=0)\n",
    "lda_tf.fit(reviews_t_vectorized)\n",
    "\n",
    "lda_tfidf = LatentDirichletAllocation(n_components=20, random_state=0)\n",
    "lda_tfidf.fit(tfidf_vectorized)\n"
   ]
  },
  {
   "cell_type": "markdown",
   "id": "d14cd474",
   "metadata": {},
   "source": [
    "## LSA"
   ]
  },
  {
   "cell_type": "code",
   "execution_count": 71,
   "id": "e3b20574",
   "metadata": {},
   "outputs": [
    {
     "data": {
      "text/html": [
       "<div>\n",
       "<style scoped>\n",
       "    .dataframe tbody tr th:only-of-type {\n",
       "        vertical-align: middle;\n",
       "    }\n",
       "\n",
       "    .dataframe tbody tr th {\n",
       "        vertical-align: top;\n",
       "    }\n",
       "\n",
       "    .dataframe thead th {\n",
       "        text-align: right;\n",
       "    }\n",
       "</style>\n",
       "<table border=\"1\" class=\"dataframe\">\n",
       "  <thead>\n",
       "    <tr style=\"text-align: right;\">\n",
       "      <th></th>\n",
       "      <th>able</th>\n",
       "      <th>about</th>\n",
       "      <th>above</th>\n",
       "      <th>absolute</th>\n",
       "      <th>absolutely</th>\n",
       "      <th>accessible</th>\n",
       "      <th>achievement</th>\n",
       "      <th>across</th>\n",
       "      <th>actual</th>\n",
       "      <th>actually</th>\n",
       "      <th>...</th>\n",
       "      <th>years</th>\n",
       "      <th>yes</th>\n",
       "      <th>yet</th>\n",
       "      <th>you</th>\n",
       "      <th>youll</th>\n",
       "      <th>young</th>\n",
       "      <th>your</th>\n",
       "      <th>youre</th>\n",
       "      <th>yourself</th>\n",
       "      <th>youve</th>\n",
       "    </tr>\n",
       "  </thead>\n",
       "  <tbody>\n",
       "    <tr>\n",
       "      <th>0</th>\n",
       "      <td>1</td>\n",
       "      <td>2</td>\n",
       "      <td>0</td>\n",
       "      <td>0</td>\n",
       "      <td>0</td>\n",
       "      <td>0</td>\n",
       "      <td>0</td>\n",
       "      <td>0</td>\n",
       "      <td>2</td>\n",
       "      <td>0</td>\n",
       "      <td>...</td>\n",
       "      <td>1</td>\n",
       "      <td>0</td>\n",
       "      <td>0</td>\n",
       "      <td>0</td>\n",
       "      <td>0</td>\n",
       "      <td>0</td>\n",
       "      <td>0</td>\n",
       "      <td>0</td>\n",
       "      <td>0</td>\n",
       "      <td>0</td>\n",
       "    </tr>\n",
       "    <tr>\n",
       "      <th>1</th>\n",
       "      <td>0</td>\n",
       "      <td>3</td>\n",
       "      <td>0</td>\n",
       "      <td>0</td>\n",
       "      <td>0</td>\n",
       "      <td>0</td>\n",
       "      <td>0</td>\n",
       "      <td>0</td>\n",
       "      <td>0</td>\n",
       "      <td>1</td>\n",
       "      <td>...</td>\n",
       "      <td>0</td>\n",
       "      <td>0</td>\n",
       "      <td>0</td>\n",
       "      <td>5</td>\n",
       "      <td>0</td>\n",
       "      <td>0</td>\n",
       "      <td>2</td>\n",
       "      <td>0</td>\n",
       "      <td>0</td>\n",
       "      <td>0</td>\n",
       "    </tr>\n",
       "    <tr>\n",
       "      <th>2</th>\n",
       "      <td>0</td>\n",
       "      <td>2</td>\n",
       "      <td>0</td>\n",
       "      <td>0</td>\n",
       "      <td>0</td>\n",
       "      <td>0</td>\n",
       "      <td>0</td>\n",
       "      <td>0</td>\n",
       "      <td>0</td>\n",
       "      <td>0</td>\n",
       "      <td>...</td>\n",
       "      <td>1</td>\n",
       "      <td>0</td>\n",
       "      <td>1</td>\n",
       "      <td>2</td>\n",
       "      <td>0</td>\n",
       "      <td>0</td>\n",
       "      <td>1</td>\n",
       "      <td>0</td>\n",
       "      <td>0</td>\n",
       "      <td>1</td>\n",
       "    </tr>\n",
       "    <tr>\n",
       "      <th>3</th>\n",
       "      <td>0</td>\n",
       "      <td>0</td>\n",
       "      <td>0</td>\n",
       "      <td>0</td>\n",
       "      <td>1</td>\n",
       "      <td>0</td>\n",
       "      <td>0</td>\n",
       "      <td>0</td>\n",
       "      <td>0</td>\n",
       "      <td>1</td>\n",
       "      <td>...</td>\n",
       "      <td>3</td>\n",
       "      <td>1</td>\n",
       "      <td>0</td>\n",
       "      <td>3</td>\n",
       "      <td>0</td>\n",
       "      <td>0</td>\n",
       "      <td>0</td>\n",
       "      <td>0</td>\n",
       "      <td>0</td>\n",
       "      <td>0</td>\n",
       "    </tr>\n",
       "    <tr>\n",
       "      <th>4</th>\n",
       "      <td>0</td>\n",
       "      <td>0</td>\n",
       "      <td>0</td>\n",
       "      <td>0</td>\n",
       "      <td>0</td>\n",
       "      <td>0</td>\n",
       "      <td>0</td>\n",
       "      <td>0</td>\n",
       "      <td>0</td>\n",
       "      <td>0</td>\n",
       "      <td>...</td>\n",
       "      <td>0</td>\n",
       "      <td>0</td>\n",
       "      <td>0</td>\n",
       "      <td>0</td>\n",
       "      <td>0</td>\n",
       "      <td>0</td>\n",
       "      <td>0</td>\n",
       "      <td>0</td>\n",
       "      <td>0</td>\n",
       "      <td>0</td>\n",
       "    </tr>\n",
       "    <tr>\n",
       "      <th>...</th>\n",
       "      <td>...</td>\n",
       "      <td>...</td>\n",
       "      <td>...</td>\n",
       "      <td>...</td>\n",
       "      <td>...</td>\n",
       "      <td>...</td>\n",
       "      <td>...</td>\n",
       "      <td>...</td>\n",
       "      <td>...</td>\n",
       "      <td>...</td>\n",
       "      <td>...</td>\n",
       "      <td>...</td>\n",
       "      <td>...</td>\n",
       "      <td>...</td>\n",
       "      <td>...</td>\n",
       "      <td>...</td>\n",
       "      <td>...</td>\n",
       "      <td>...</td>\n",
       "      <td>...</td>\n",
       "      <td>...</td>\n",
       "      <td>...</td>\n",
       "    </tr>\n",
       "    <tr>\n",
       "      <th>1542</th>\n",
       "      <td>0</td>\n",
       "      <td>0</td>\n",
       "      <td>0</td>\n",
       "      <td>0</td>\n",
       "      <td>1</td>\n",
       "      <td>0</td>\n",
       "      <td>0</td>\n",
       "      <td>0</td>\n",
       "      <td>0</td>\n",
       "      <td>0</td>\n",
       "      <td>...</td>\n",
       "      <td>0</td>\n",
       "      <td>0</td>\n",
       "      <td>0</td>\n",
       "      <td>1</td>\n",
       "      <td>0</td>\n",
       "      <td>0</td>\n",
       "      <td>0</td>\n",
       "      <td>0</td>\n",
       "      <td>0</td>\n",
       "      <td>0</td>\n",
       "    </tr>\n",
       "    <tr>\n",
       "      <th>1543</th>\n",
       "      <td>0</td>\n",
       "      <td>0</td>\n",
       "      <td>0</td>\n",
       "      <td>0</td>\n",
       "      <td>0</td>\n",
       "      <td>0</td>\n",
       "      <td>0</td>\n",
       "      <td>0</td>\n",
       "      <td>0</td>\n",
       "      <td>0</td>\n",
       "      <td>...</td>\n",
       "      <td>0</td>\n",
       "      <td>0</td>\n",
       "      <td>0</td>\n",
       "      <td>1</td>\n",
       "      <td>0</td>\n",
       "      <td>0</td>\n",
       "      <td>0</td>\n",
       "      <td>0</td>\n",
       "      <td>0</td>\n",
       "      <td>0</td>\n",
       "    </tr>\n",
       "    <tr>\n",
       "      <th>1544</th>\n",
       "      <td>0</td>\n",
       "      <td>0</td>\n",
       "      <td>0</td>\n",
       "      <td>0</td>\n",
       "      <td>0</td>\n",
       "      <td>0</td>\n",
       "      <td>0</td>\n",
       "      <td>0</td>\n",
       "      <td>0</td>\n",
       "      <td>0</td>\n",
       "      <td>...</td>\n",
       "      <td>0</td>\n",
       "      <td>0</td>\n",
       "      <td>0</td>\n",
       "      <td>0</td>\n",
       "      <td>0</td>\n",
       "      <td>0</td>\n",
       "      <td>0</td>\n",
       "      <td>0</td>\n",
       "      <td>0</td>\n",
       "      <td>0</td>\n",
       "    </tr>\n",
       "    <tr>\n",
       "      <th>1545</th>\n",
       "      <td>0</td>\n",
       "      <td>0</td>\n",
       "      <td>0</td>\n",
       "      <td>0</td>\n",
       "      <td>0</td>\n",
       "      <td>0</td>\n",
       "      <td>0</td>\n",
       "      <td>0</td>\n",
       "      <td>0</td>\n",
       "      <td>0</td>\n",
       "      <td>...</td>\n",
       "      <td>0</td>\n",
       "      <td>0</td>\n",
       "      <td>0</td>\n",
       "      <td>1</td>\n",
       "      <td>0</td>\n",
       "      <td>0</td>\n",
       "      <td>0</td>\n",
       "      <td>0</td>\n",
       "      <td>0</td>\n",
       "      <td>0</td>\n",
       "    </tr>\n",
       "    <tr>\n",
       "      <th>1546</th>\n",
       "      <td>0</td>\n",
       "      <td>1</td>\n",
       "      <td>0</td>\n",
       "      <td>0</td>\n",
       "      <td>0</td>\n",
       "      <td>0</td>\n",
       "      <td>0</td>\n",
       "      <td>0</td>\n",
       "      <td>0</td>\n",
       "      <td>0</td>\n",
       "      <td>...</td>\n",
       "      <td>0</td>\n",
       "      <td>0</td>\n",
       "      <td>0</td>\n",
       "      <td>0</td>\n",
       "      <td>0</td>\n",
       "      <td>0</td>\n",
       "      <td>0</td>\n",
       "      <td>0</td>\n",
       "      <td>0</td>\n",
       "      <td>0</td>\n",
       "    </tr>\n",
       "  </tbody>\n",
       "</table>\n",
       "<p>1547 rows × 1009 columns</p>\n",
       "</div>"
      ],
      "text/plain": [
       "      able  about  above  absolute  absolutely  accessible  achievement  \\\n",
       "0        1      2      0         0           0           0            0   \n",
       "1        0      3      0         0           0           0            0   \n",
       "2        0      2      0         0           0           0            0   \n",
       "3        0      0      0         0           1           0            0   \n",
       "4        0      0      0         0           0           0            0   \n",
       "...    ...    ...    ...       ...         ...         ...          ...   \n",
       "1542     0      0      0         0           1           0            0   \n",
       "1543     0      0      0         0           0           0            0   \n",
       "1544     0      0      0         0           0           0            0   \n",
       "1545     0      0      0         0           0           0            0   \n",
       "1546     0      1      0         0           0           0            0   \n",
       "\n",
       "      across  actual  actually  ...  years  yes  yet  you  youll  young  your  \\\n",
       "0          0       2         0  ...      1    0    0    0      0      0     0   \n",
       "1          0       0         1  ...      0    0    0    5      0      0     2   \n",
       "2          0       0         0  ...      1    0    1    2      0      0     1   \n",
       "3          0       0         1  ...      3    1    0    3      0      0     0   \n",
       "4          0       0         0  ...      0    0    0    0      0      0     0   \n",
       "...      ...     ...       ...  ...    ...  ...  ...  ...    ...    ...   ...   \n",
       "1542       0       0         0  ...      0    0    0    1      0      0     0   \n",
       "1543       0       0         0  ...      0    0    0    1      0      0     0   \n",
       "1544       0       0         0  ...      0    0    0    0      0      0     0   \n",
       "1545       0       0         0  ...      0    0    0    1      0      0     0   \n",
       "1546       0       0         0  ...      0    0    0    0      0      0     0   \n",
       "\n",
       "      youre  yourself  youve  \n",
       "0         0         0      0  \n",
       "1         0         0      0  \n",
       "2         0         0      1  \n",
       "3         0         0      0  \n",
       "4         0         0      0  \n",
       "...     ...       ...    ...  \n",
       "1542      0         0      0  \n",
       "1543      0         0      0  \n",
       "1544      0         0      0  \n",
       "1545      0         0      0  \n",
       "1546      0         0      0  \n",
       "\n",
       "[1547 rows x 1009 columns]"
      ]
     },
     "execution_count": 71,
     "metadata": {},
     "output_type": "execute_result"
    }
   ],
   "source": [
    "pd.DataFrame(max_vectorized, columns =max_vec.get_feature_names())"
   ]
  },
  {
   "cell_type": "code",
   "execution_count": 72,
   "id": "405e8a29",
   "metadata": {},
   "outputs": [],
   "source": [
    "lsa = TruncatedSVD(2)"
   ]
  },
  {
   "cell_type": "code",
   "execution_count": 73,
   "id": "b3ab5bd5",
   "metadata": {},
   "outputs": [],
   "source": [
    "doc_topic = lsa.fit_transform(max_vectorized)"
   ]
  },
  {
   "cell_type": "code",
   "execution_count": 74,
   "id": "1ae6cc9b",
   "metadata": {},
   "outputs": [
    {
     "data": {
      "text/plain": [
       "array([0.68356962, 0.10003612])"
      ]
     },
     "execution_count": 74,
     "metadata": {},
     "output_type": "execute_result"
    }
   ],
   "source": [
    "## The first 2 topics explain the majority of the variance \n",
    "\n",
    "lsa.explained_variance_ratio_"
   ]
  },
  {
   "cell_type": "code",
   "execution_count": 75,
   "id": "c4d7168e",
   "metadata": {},
   "outputs": [
    {
     "data": {
      "text/html": [
       "<div>\n",
       "<style scoped>\n",
       "    .dataframe tbody tr th:only-of-type {\n",
       "        vertical-align: middle;\n",
       "    }\n",
       "\n",
       "    .dataframe tbody tr th {\n",
       "        vertical-align: top;\n",
       "    }\n",
       "\n",
       "    .dataframe thead th {\n",
       "        text-align: right;\n",
       "    }\n",
       "</style>\n",
       "<table border=\"1\" class=\"dataframe\">\n",
       "  <thead>\n",
       "    <tr style=\"text-align: right;\">\n",
       "      <th></th>\n",
       "      <th>able</th>\n",
       "      <th>about</th>\n",
       "      <th>above</th>\n",
       "      <th>absolute</th>\n",
       "      <th>absolutely</th>\n",
       "      <th>accessible</th>\n",
       "      <th>achievement</th>\n",
       "      <th>across</th>\n",
       "      <th>actual</th>\n",
       "      <th>actually</th>\n",
       "      <th>...</th>\n",
       "      <th>years</th>\n",
       "      <th>yes</th>\n",
       "      <th>yet</th>\n",
       "      <th>you</th>\n",
       "      <th>youll</th>\n",
       "      <th>young</th>\n",
       "      <th>your</th>\n",
       "      <th>youre</th>\n",
       "      <th>yourself</th>\n",
       "      <th>youve</th>\n",
       "    </tr>\n",
       "  </thead>\n",
       "  <tbody>\n",
       "    <tr>\n",
       "      <th>component_1</th>\n",
       "      <td>0.002</td>\n",
       "      <td>0.043</td>\n",
       "      <td>0.002</td>\n",
       "      <td>0.002</td>\n",
       "      <td>0.004</td>\n",
       "      <td>0.001</td>\n",
       "      <td>0.001</td>\n",
       "      <td>0.003</td>\n",
       "      <td>0.002</td>\n",
       "      <td>0.007</td>\n",
       "      <td>...</td>\n",
       "      <td>0.011</td>\n",
       "      <td>0.004</td>\n",
       "      <td>0.006</td>\n",
       "      <td>0.119</td>\n",
       "      <td>0.001</td>\n",
       "      <td>0.001</td>\n",
       "      <td>0.022</td>\n",
       "      <td>0.008</td>\n",
       "      <td>0.002</td>\n",
       "      <td>0.003</td>\n",
       "    </tr>\n",
       "    <tr>\n",
       "      <th>component_2</th>\n",
       "      <td>-0.000</td>\n",
       "      <td>-0.006</td>\n",
       "      <td>-0.000</td>\n",
       "      <td>-0.000</td>\n",
       "      <td>-0.000</td>\n",
       "      <td>-0.000</td>\n",
       "      <td>-0.000</td>\n",
       "      <td>-0.000</td>\n",
       "      <td>-0.000</td>\n",
       "      <td>-0.001</td>\n",
       "      <td>...</td>\n",
       "      <td>-0.001</td>\n",
       "      <td>0.006</td>\n",
       "      <td>-0.001</td>\n",
       "      <td>-0.004</td>\n",
       "      <td>0.000</td>\n",
       "      <td>-0.000</td>\n",
       "      <td>-0.003</td>\n",
       "      <td>-0.001</td>\n",
       "      <td>-0.000</td>\n",
       "      <td>-0.001</td>\n",
       "    </tr>\n",
       "  </tbody>\n",
       "</table>\n",
       "<p>2 rows × 1009 columns</p>\n",
       "</div>"
      ],
      "text/plain": [
       "              able  about  above  absolute  absolutely  accessible  \\\n",
       "component_1  0.002  0.043  0.002     0.002       0.004       0.001   \n",
       "component_2 -0.000 -0.006 -0.000    -0.000      -0.000      -0.000   \n",
       "\n",
       "             achievement  across  actual  actually  ...  years    yes    yet  \\\n",
       "component_1        0.001   0.003   0.002     0.007  ...  0.011  0.004  0.006   \n",
       "component_2       -0.000  -0.000  -0.000    -0.001  ... -0.001  0.006 -0.001   \n",
       "\n",
       "               you  youll  young   your  youre  yourself  youve  \n",
       "component_1  0.119  0.001  0.001  0.022  0.008     0.002  0.003  \n",
       "component_2 -0.004  0.000 -0.000 -0.003 -0.001    -0.000 -0.001  \n",
       "\n",
       "[2 rows x 1009 columns]"
      ]
     },
     "execution_count": 75,
     "metadata": {},
     "output_type": "execute_result"
    }
   ],
   "source": [
    "topic_word = pd.DataFrame(lsa.components_.round(3),\n",
    "             index = [\"component_1\",\"component_2\"],\n",
    "             columns = max_vec.get_feature_names())\n",
    "topic_word"
   ]
  },
  {
   "cell_type": "code",
   "execution_count": 76,
   "id": "396ecf03",
   "metadata": {},
   "outputs": [],
   "source": [
    "def display_topics(model, feature_names, no_top_words, topic_names=None):\n",
    "    for ix, topic in enumerate(model.components_):\n",
    "        if not topic_names or not topic_names[ix]:\n",
    "            print(\"\\nTopic \", ix)\n",
    "        else:\n",
    "            print(\"\\nTopic: '\",topic_names[ix],\"'\")\n",
    "        print(\", \".join([feature_names[i]\n",
    "                        for i in topic.argsort()[:-no_top_words - 1:-1]]))"
   ]
  },
  {
   "cell_type": "code",
   "execution_count": 77,
   "id": "c323f877",
   "metadata": {},
   "outputs": [
    {
     "name": "stdout",
     "output_type": "stream",
     "text": [
      "\n",
      "Topic  0\n",
      "the, and, this, that, album\n",
      "\n",
      "Topic  1\n",
      "que, los, con, por, del\n"
     ]
    }
   ],
   "source": [
    "display_topics(lsa, max_vec.get_feature_names(), 5)"
   ]
  }
 ],
 "metadata": {
  "kernelspec": {
   "display_name": "Python [conda env:metis] *",
   "language": "python",
   "name": "conda-env-metis-py"
  },
  "language_info": {
   "codemirror_mode": {
    "name": "ipython",
    "version": 3
   },
   "file_extension": ".py",
   "mimetype": "text/x-python",
   "name": "python",
   "nbconvert_exporter": "python",
   "pygments_lexer": "ipython3",
   "version": "3.8.10"
  }
 },
 "nbformat": 4,
 "nbformat_minor": 5
}
